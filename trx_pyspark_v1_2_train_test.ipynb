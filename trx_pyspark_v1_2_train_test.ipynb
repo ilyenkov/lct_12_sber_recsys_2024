{
 "cells": [
  {
   "cell_type": "code",
   "execution_count": 3,
   "id": "a4cd998e-38ed-49db-a9d1-8047fe497cc9",
   "metadata": {},
   "outputs": [],
   "source": [
    "import eco2ai\n",
    "tracker = eco2ai.Tracker(project_name=\"lct_12_sber_multimodal_recsys\", \n",
    "                         experiment_description=\"trx_pyspark_v1_2_train_test\", ignore_warnings=True)\n",
    "tracker.start()"
   ]
  },
  {
   "cell_type": "code",
   "execution_count": 4,
   "id": "1e7614b2-c632-4411-a086-36a0f5aa5b7d",
   "metadata": {},
   "outputs": [
    {
     "name": "stdout",
     "output_type": "stream",
     "text": [
      "cpu 16\n",
      "ram 188.7 gb\n",
      "torch 1.13.1+cu116\n",
      "pandas 1.4.3\n",
      "numpy 1.26.0\n",
      "pytorch-lightning 2.2.5\n",
      "Sat Jun 15 10:57:06 2024\n"
     ]
    }
   ],
   "source": [
    "import os\n",
    "os.environ[\"OMP_NUM_THREADS\"] = \"8\"#4\n",
    "\n",
    "import pandas as pd\n",
    "import numpy as np\n",
    "import torch\n",
    "from functools import partial\n",
    "import pytorch_lightning as pl\n",
    "import warnings\n",
    "import pickle\n",
    "import time\n",
    "warnings.filterwarnings(\"ignore\")\n",
    "\n",
    "from torch.utils.data import DataLoader\n",
    "\n",
    "from ptls.data_load.datasets import MemoryMapDataset\n",
    "from ptls.data_load.iterable_processing.iterable_seq_len_limit import ISeqLenLimit\n",
    "from ptls.data_load.iterable_processing.to_torch_tensor import ToTorch\n",
    "from ptls.data_load.iterable_processing.feature_filter import FeatureFilter\n",
    "from ptls.nn import TrxEncoder, RnnSeqEncoder\n",
    "from ptls.frames.coles import CoLESModule\n",
    "from ptls.data_load.iterable_processing import SeqLenFilter\n",
    "from ptls.frames.coles import ColesIterableDataset, ColesDataset\n",
    "from ptls.frames.coles.split_strategy import SampleSlices\n",
    "from ptls.frames import PtlsDataModule\n",
    "from ptls.preprocessing import PandasDataPreprocessor, PysparkDataPreprocessor\n",
    "from ptls.data_load.utils import collate_feature_dict\n",
    "from ptls.data_load.iterable_processing_dataset import IterableProcessingDataset\n",
    "from ptls.data_load.datasets import ParquetDataset, ParquetFiles\n",
    "import ptls\n",
    "\n",
    "from tqdm.auto import tqdm\n",
    "#import lightgbm as ltb\n",
    "from datetime import datetime\n",
    "\n",
    "import multiprocessing\n",
    "print('cpu', multiprocessing.cpu_count())\n",
    "\n",
    "import psutil    \n",
    "print('ram', round(psutil.virtual_memory().total/1024/1024/1024,1), 'gb')  # total physical memory in Bytes\n",
    "\n",
    "debug=False\n",
    "\n",
    "print('torch', torch.__version__)\n",
    "print('pandas', pd.__version__)\n",
    "print('numpy', np.__version__)\n",
    "print('pytorch-lightning', pl.__version__)\n",
    "print(time.ctime())"
   ]
  },
  {
   "cell_type": "code",
   "execution_count": 5,
   "id": "c2983a51-f5ce-4c96-98c6-fd6f2f554727",
   "metadata": {},
   "outputs": [
    {
     "name": "stdout",
     "output_type": "stream",
     "text": [
      "Sat Jun 15 10:57:06 2024       \n",
      "+-----------------------------------------------------------------------------+\n",
      "| NVIDIA-SMI 510.47.03    Driver Version: 510.47.03    CUDA Version: 11.6     |\n",
      "|-------------------------------+----------------------+----------------------+\n",
      "| GPU  Name        Persistence-M| Bus-Id        Disp.A | Volatile Uncorr. ECC |\n",
      "| Fan  Temp  Perf  Pwr:Usage/Cap|         Memory-Usage | GPU-Util  Compute M. |\n",
      "|                               |                      |               MIG M. |\n",
      "|===============================+======================+======================|\n",
      "|   0  Tesla V100-PCIE...  On   | 00000000:8B:00.0 Off |                    0 |\n",
      "| N/A   35C    P0    25W / 250W |      4MiB / 32768MiB |      0%      Default |\n",
      "|                               |                      |                  N/A |\n",
      "+-------------------------------+----------------------+----------------------+\n",
      "|   1  Tesla V100-PCIE...  On   | 00000000:8C:00.0 Off |                    0 |\n",
      "| N/A   33C    P0    25W / 250W |      4MiB / 32768MiB |      0%      Default |\n",
      "|                               |                      |                  N/A |\n",
      "+-------------------------------+----------------------+----------------------+\n",
      "                                                                               \n",
      "+-----------------------------------------------------------------------------+\n",
      "| Processes:                                                                  |\n",
      "|  GPU   GI   CI        PID   Type   Process name                  GPU Memory |\n",
      "|        ID   ID                                                   Usage      |\n",
      "|=============================================================================|\n",
      "|    0   N/A  N/A       677      G   /usr/lib/xorg/Xorg                  4MiB |\n",
      "|    1   N/A  N/A       677      G   /usr/lib/xorg/Xorg                  4MiB |\n",
      "+-----------------------------------------------------------------------------+\n"
     ]
    }
   ],
   "source": [
    "!nvidia-smi"
   ]
  },
  {
   "cell_type": "code",
   "execution_count": 6,
   "id": "defe295a-8111-49c5-8755-77d5d6a1fc85",
   "metadata": {},
   "outputs": [
    {
     "name": "stdout",
     "output_type": "stream",
     "text": [
      "pyspark 3.5.0\n"
     ]
    }
   ],
   "source": [
    "from pyspark.sql import SparkSession\n",
    "from pyspark.sql.functions import col\n",
    "from functools import reduce\n",
    "from pyspark.sql import DataFrame\n",
    "import pyspark\n",
    "import os\n",
    "print('pyspark', pyspark.__version__)\n",
    "os.environ[\"PYARROW_IGNORE_TIMEZONE\"] = \"1\" \n",
    "# без этой строчки у нас будет возникать постоянное предупреждение с просьбой установить эту переменную в значение 1, что мы заранее и делаем"
   ]
  },
  {
   "cell_type": "code",
   "execution_count": 7,
   "id": "eebc87e8-9b37-4b7d-bb22-c05376a1bfbc",
   "metadata": {},
   "outputs": [
    {
     "name": "stderr",
     "output_type": "stream",
     "text": [
      "24/06/15 10:57:10 WARN Utils: Your hostname, gpupreemnew resolves to a loopback address: 127.0.1.1; using 10.129.0.19 instead (on interface eth0)\n",
      "24/06/15 10:57:10 WARN Utils: Set SPARK_LOCAL_IP if you need to bind to another address\n",
      "Setting default log level to \"WARN\".\n",
      "To adjust logging level use sc.setLogLevel(newLevel). For SparkR, use setLogLevel(newLevel).\n",
      "24/06/15 10:57:12 WARN NativeCodeLoader: Unable to load native-hadoop library for your platform... using builtin-java classes where applicable\n",
      "24/06/15 10:57:12 WARN SparkConf: Note that spark.local.dir will be overridden by the value set by the cluster manager (via SPARK_LOCAL_DIRS in mesos/standalone/kubernetes and LOCAL_DIRS in YARN).\n"
     ]
    },
    {
     "data": {
      "text/plain": [
       "[('spark.executor.extraJavaOptions',\n",
       "  '-Djava.net.preferIPv6Addresses=false -XX:+IgnoreUnrecognizedVMOptions --add-opens=java.base/java.lang=ALL-UNNAMED --add-opens=java.base/java.lang.invoke=ALL-UNNAMED --add-opens=java.base/java.lang.reflect=ALL-UNNAMED --add-opens=java.base/java.io=ALL-UNNAMED --add-opens=java.base/java.net=ALL-UNNAMED --add-opens=java.base/java.nio=ALL-UNNAMED --add-opens=java.base/java.util=ALL-UNNAMED --add-opens=java.base/java.util.concurrent=ALL-UNNAMED --add-opens=java.base/java.util.concurrent.atomic=ALL-UNNAMED --add-opens=java.base/sun.nio.ch=ALL-UNNAMED --add-opens=java.base/sun.nio.cs=ALL-UNNAMED --add-opens=java.base/sun.security.action=ALL-UNNAMED --add-opens=java.base/sun.util.calendar=ALL-UNNAMED --add-opens=java.security.jgss/sun.security.krb5=ALL-UNNAMED -Djdk.reflect.useDirectMethodHandle=false'),\n",
       " ('spark.driver.memoryOverhead', '4g'),\n",
       " ('spark.app.startTime', '1718449031855'),\n",
       " ('spark.local.dir', '../../spark_local_dir'),\n",
       " ('spark.cores.max', '16'),\n",
       " ('spark.executor.heartbeatInterval', '200000'),\n",
       " ('spark.executor.id', 'driver'),\n",
       " ('spark.driver.host', 'gpupreem1b.ru-central1.internal'),\n",
       " ('spark.driver.memory', '16g'),\n",
       " ('spark.app.id', 'local-1718449033578'),\n",
       " ('spark.driver.extraJavaOptions',\n",
       "  '-Djava.net.preferIPv6Addresses=false -XX:+IgnoreUnrecognizedVMOptions --add-opens=java.base/java.lang=ALL-UNNAMED --add-opens=java.base/java.lang.invoke=ALL-UNNAMED --add-opens=java.base/java.lang.reflect=ALL-UNNAMED --add-opens=java.base/java.io=ALL-UNNAMED --add-opens=java.base/java.net=ALL-UNNAMED --add-opens=java.base/java.nio=ALL-UNNAMED --add-opens=java.base/java.util=ALL-UNNAMED --add-opens=java.base/java.util.concurrent=ALL-UNNAMED --add-opens=java.base/java.util.concurrent.atomic=ALL-UNNAMED --add-opens=java.base/sun.nio.ch=ALL-UNNAMED --add-opens=java.base/sun.nio.cs=ALL-UNNAMED --add-opens=java.base/sun.security.action=ALL-UNNAMED --add-opens=java.base/sun.util.calendar=ALL-UNNAMED --add-opens=java.security.jgss/sun.security.krb5=ALL-UNNAMED -Djdk.reflect.useDirectMethodHandle=false'),\n",
       " ('spark.executor.memory', '16g'),\n",
       " ('spark.app.submitTime', '1718449031596'),\n",
       " ('spark.rdd.compress', 'True'),\n",
       " ('spark.driver.port', '46391'),\n",
       " ('spark.serializer.objectStreamReset', '100'),\n",
       " ('spark.sql.shuffle.partitions', '200'),\n",
       " ('spark.master', 'local[*]'),\n",
       " ('spark.submit.pyFiles', ''),\n",
       " ('spark.submit.deployMode', 'client'),\n",
       " ('spark.app.name', 'PysparkDataPreprocessor'),\n",
       " ('spark.network.timeout', '300000'),\n",
       " ('spark.ui.showConsoleProgress', 'true'),\n",
       " ('spark.driver.maxResultSize', '4g'),\n",
       " ('spark.executor.memoryOverhead', '4g')]"
      ]
     },
     "execution_count": 7,
     "metadata": {},
     "output_type": "execute_result"
    }
   ],
   "source": [
    "spark_conf = pyspark.SparkConf()\n",
    "spark_conf.setMaster(\"local[*]\").setAppName(\"PysparkDataPreprocessor\")\n",
    "spark_conf.set(\"spark.driver.maxResultSize\", \"4g\")\n",
    "spark_conf.set(\"spark.executor.memory\", \"16g\")\n",
    "spark_conf.set(\"spark.executor.memoryOverhead\", \"4g\")\n",
    "spark_conf.set(\"spark.driver.memory\", \"16g\")\n",
    "spark_conf.set(\"spark.driver.memoryOverhead\", \"4g\")\n",
    "spark_conf.set(\"spark.cores.max\", \"16\")\n",
    "spark_conf.set(\"spark.sql.shuffle.partitions\", \"200\")\n",
    "spark_conf.set(\"spark.local.dir\", \"../../spark_local_dir\")\n",
    "spark_conf.set(\"spark.executor.heartbeatInterval\", \"200000\")\n",
    "spark_conf.set(\"spark.network.timeout\", \"300000\")\n",
    "\n",
    "\n",
    "spark = SparkSession.builder.config(conf=spark_conf).getOrCreate()\n",
    "spark.sparkContext.getConf().getAll()"
   ]
  },
  {
   "cell_type": "markdown",
   "id": "7c110bf3-a059-4975-ad23-a20fd8bf182b",
   "metadata": {},
   "source": [
    "## 1. Предобратока данных"
   ]
  },
  {
   "cell_type": "code",
   "execution_count": null,
   "id": "bf3a3340-df3d-4f9f-afb2-efbdc6393ed6",
   "metadata": {},
   "outputs": [],
   "source": [
    "%%time\n",
    "transactions_train = spark.read.parquet(\"Hackathon/trx_train.parquet\")\n",
    "transactions_test = spark.read.parquet(\"Hackathon/trx_test.parquet\")"
   ]
  },
  {
   "cell_type": "code",
   "execution_count": null,
   "id": "23b27396-cbb1-45e2-8d4e-109403f31cc2",
   "metadata": {},
   "outputs": [],
   "source": [
    "print(transactions_train.count(), transactions_test.count())"
   ]
  },
  {
   "cell_type": "code",
   "execution_count": null,
   "id": "1a8df94d-2558-4e54-aabb-f9df1a8011b3",
   "metadata": {},
   "outputs": [],
   "source": [
    "%%time\n",
    "if debug:\n",
    "    train_clients = [i['client_id'] for i in transactions_train.select('client_id').distinct().collect()]\n",
    "    print(len(train_clients))\n",
    "    train_clients = pd.Series(train_clients).sample(random_state=37, frac=0.1).values.tolist()\n",
    "    print(len(train_clients))\n",
    "    transactions_train = transactions_train.filter(col('client_id').isin(train_clients))\n",
    "    #print(transactions_train['client_id'].n_unique())"
   ]
  },
  {
   "cell_type": "code",
   "execution_count": null,
   "id": "28202ad1-20fd-4a60-9d93-321b45f25058",
   "metadata": {},
   "outputs": [],
   "source": [
    "%%time\n",
    "if debug:\n",
    "    test_clients = [i['client_id'] for i in transactions_test.select('client_id').distinct().collect()]\n",
    "    print(len(test_clients))\n",
    "    test_clients = pd.Series(test_clients).sample(random_state=37, frac=0.1).values.tolist()\n",
    "    print(len(test_clients))\n",
    "    transactions_test = transactions_test.filter(col('client_id').isin(test_clients))\n",
    "    #print(transactions_test['client_id'].n_unique())"
   ]
  },
  {
   "cell_type": "code",
   "execution_count": null,
   "id": "c5c64109-f40b-42fb-9cb8-dba0214dcbf0",
   "metadata": {},
   "outputs": [],
   "source": [
    "# объединяем train и test, чтобы историческая информация о поведении тестовых пользователей тоже использовалась для обучения\n",
    "transactions_train = reduce(DataFrame.unionAll, [transactions_train, transactions_test])\n",
    "print(transactions_train.count())"
   ]
  },
  {
   "cell_type": "code",
   "execution_count": null,
   "id": "fb7fd772-437b-4345-b71e-1495f7378eba",
   "metadata": {},
   "outputs": [],
   "source": [
    "%%time\n",
    "\n",
    "preprocessor = PysparkDataPreprocessor(\n",
    "    col_id=\"client_id\",\n",
    "    col_event_time=\"event_time\",\n",
    "    event_time_transformation=\"dt_to_timestamp\",\n",
    "    cols_category=[\"event_type\",\n",
    "                   \"event_subtype\",\n",
    "                   \"currency\",\n",
    "                   \"src_type11\",\n",
    "                   \"src_type12\",\n",
    "                   \"dst_type11\",\n",
    "                   \"dst_type12\",\n",
    "                   \"src_type21\",\n",
    "                   \"src_type22\",\n",
    "                   \"src_type31\",\n",
    "                   \"src_type32\"],\n",
    "    cols_identity=\"amount\",\n",
    "    #return_records=False,\n",
    ")\n",
    "\n",
    "processed_train = preprocessor.fit_transform(transactions_train)\n",
    "processed_test = preprocessor.transform(transactions_test)"
   ]
  },
  {
   "cell_type": "code",
   "execution_count": null,
   "id": "9952e9b3-785a-4d69-8d49-45a8b061c204",
   "metadata": {},
   "outputs": [],
   "source": [
    "processed_train.dtypes"
   ]
  },
  {
   "cell_type": "code",
   "execution_count": null,
   "id": "8970b34f-62f2-4a7a-91ae-73f525437f06",
   "metadata": {},
   "outputs": [],
   "source": [
    "with open('preprocessor_pyspark_v1.pickle', 'wb') as f:\n",
    "    pickle.dump(preprocessor, f)"
   ]
  },
  {
   "cell_type": "code",
   "execution_count": null,
   "id": "84150870-c9e4-4683-a0d3-29edcd274e00",
   "metadata": {},
   "outputs": [],
   "source": [
    "%%time\n",
    "processed_train.write.parquet('processed_train_pyspark_v1.parquet', mode='overwrite')\n",
    "processed_test.write.parquet('processed_test_pyspark_v1.parquet', mode='overwrite')"
   ]
  },
  {
   "cell_type": "code",
   "execution_count": null,
   "id": "46660d4c-9d18-4ef9-ab8a-51a667b42eab",
   "metadata": {},
   "outputs": [],
   "source": [
    "print(processed_train.count(), processed_test.count())\n",
    "print(len(processed_train.select('client_id').distinct().collect()), len(processed_test.select('client_id').distinct().collect()))\n",
    "#processed_train.show(5)"
   ]
  },
  {
   "cell_type": "code",
   "execution_count": null,
   "id": "caffe6e2-5481-4da1-a3e0-4b7b64cb0382",
   "metadata": {},
   "outputs": [],
   "source": [
    "del processed_train, processed_test"
   ]
  },
  {
   "cell_type": "markdown",
   "id": "870b627e-fbc2-453c-94f4-e61b0de2b937",
   "metadata": {},
   "source": [
    "## 2. Тренировка модели"
   ]
  },
  {
   "cell_type": "code",
   "execution_count": 8,
   "id": "114ccefb-c7cb-4a69-9f11-fd017910cbd8",
   "metadata": {},
   "outputs": [],
   "source": [
    "with open('preprocessor_pyspark_v1.pickle', 'rb') as f:\n",
    "    preprocessor = pickle.load(f)"
   ]
  },
  {
   "cell_type": "markdown",
   "id": "2593a0a0-a7bf-497a-9b09-1a85e19e3851",
   "metadata": {},
   "source": [
    "**Обработка датасета:**\n",
    "\n",
    "- Транзакции, у которых размер < min_seq_len выкидываются\n",
    "- Транзакции, у которых длина > max_seq_len, обрезаются и конвертируются в torch.tensor\n",
    "- Не нужные для CoLES фичи удаляются"
   ]
  },
  {
   "cell_type": "code",
   "execution_count": 9,
   "id": "6797b573-2356-4b8d-bd4c-3b1dee49c3ad",
   "metadata": {},
   "outputs": [
    {
     "name": "stdout",
     "output_type": "stream",
     "text": [
      "CPU times: user 3min 2s, sys: 44.2 s, total: 3min 46s\n",
      "Wall time: 2min 54s\n"
     ]
    }
   ],
   "source": [
    "%%time\n",
    "train = MemoryMapDataset(\n",
    "    data=ParquetDataset(ParquetFiles('processed_train_pyspark_v1.parquet')),#processed_train.toPandas().to_dict(\"records\"),\n",
    "    i_filters=[\n",
    "        FeatureFilter(drop_feature_names=['client_id', 'target_1', 'target_2', 'target_3', 'target_4']),\n",
    "        SeqLenFilter(min_seq_len=32),\n",
    "        ISeqLenLimit(max_seq_len=4096),\n",
    "        ToTorch()\n",
    "    ]\n",
    ")"
   ]
  },
  {
   "cell_type": "code",
   "execution_count": 10,
   "id": "79461b4e-c1e8-49b2-9016-3955759ef4dc",
   "metadata": {},
   "outputs": [
    {
     "name": "stdout",
     "output_type": "stream",
     "text": [
      "CPU times: user 42.6 s, sys: 11.6 s, total: 54.2 s\n",
      "Wall time: 40.9 s\n"
     ]
    }
   ],
   "source": [
    "%%time\n",
    "test = MemoryMapDataset(\n",
    "    data=ParquetDataset(ParquetFiles('processed_test_pyspark_v1.parquet')),#processed_test.toPandas().to_dict(\"records\"),\n",
    "    i_filters=[\n",
    "        FeatureFilter(drop_feature_names=['client_id', 'target_1', 'target_2', 'target_3', 'target_4']),\n",
    "        SeqLenFilter(min_seq_len=32),\n",
    "        ISeqLenLimit(max_seq_len=4096),\n",
    "        ToTorch()\n",
    "    ]\n",
    ")"
   ]
  },
  {
   "cell_type": "code",
   "execution_count": 11,
   "id": "d304be00-5076-4388-9e06-ba1b16d0a300",
   "metadata": {},
   "outputs": [
    {
     "name": "stdout",
     "output_type": "stream",
     "text": [
      "CPU times: user 45 µs, sys: 12 µs, total: 57 µs\n",
      "Wall time: 62.2 µs\n"
     ]
    }
   ],
   "source": [
    "%%time\n",
    "train_ds = ColesDataset(\n",
    "    data=train,\n",
    "    splitter=SampleSlices(\n",
    "        split_count=5,\n",
    "        cnt_min=32,\n",
    "        cnt_max=180\n",
    "    )\n",
    ")\n",
    "\n",
    "valid_ds = ColesDataset(\n",
    "    data=test,\n",
    "    splitter=SampleSlices(\n",
    "        split_count=5,\n",
    "        cnt_min=32,\n",
    "        cnt_max=180\n",
    "    )\n",
    ")"
   ]
  },
  {
   "cell_type": "code",
   "execution_count": 12,
   "id": "3be10eb5-4326-44af-a7ad-bbb62f872f0f",
   "metadata": {},
   "outputs": [
    {
     "name": "stdout",
     "output_type": "stream",
     "text": [
      "CPU times: user 822 µs, sys: 0 ns, total: 822 µs\n",
      "Wall time: 832 µs\n"
     ]
    }
   ],
   "source": [
    "%%time\n",
    "train_dl = PtlsDataModule(\n",
    "    train_data=train_ds,\n",
    "    train_num_workers=16,\n",
    "    train_batch_size=256,\n",
    "    valid_data=valid_ds,\n",
    "    valid_num_workers=16,\n",
    "    valid_batch_size=256\n",
    ")"
   ]
  },
  {
   "cell_type": "markdown",
   "id": "79526aa5-b270-444a-b145-bf4212d4deea",
   "metadata": {},
   "source": [
    "- numeric_values обрабатываются как BatchNorm+Linear\n",
    "- embedidngs - nn.Embedidngs"
   ]
  },
  {
   "cell_type": "code",
   "execution_count": 13,
   "id": "efee1b9c-1e14-4637-8944-2e149c4343ec",
   "metadata": {},
   "outputs": [
    {
     "name": "stdout",
     "output_type": "stream",
     "text": [
      "CPU times: user 71 µs, sys: 18 µs, total: 89 µs\n",
      "Wall time: 95.6 µs\n"
     ]
    }
   ],
   "source": [
    "%%time\n",
    "trx_encoder_params = dict(\n",
    "    embeddings_noise=0.003,\n",
    "    numeric_values={'amount': 'log'},\n",
    "    embeddings={\n",
    "        \"event_type\": {'in': preprocessor.get_category_dictionary_sizes()[\"event_type\"], \"out\": 24},\n",
    "        \"event_subtype\": {'in': preprocessor.get_category_dictionary_sizes()[\"event_subtype\"], \"out\": 24},\n",
    "        'src_type11': {'in': preprocessor.get_category_dictionary_sizes()[\"src_type11\"], 'out': 24},\n",
    "        'src_type12': {'in': preprocessor.get_category_dictionary_sizes()[\"src_type12\"], 'out': 24},\n",
    "        'dst_type11': {'in': preprocessor.get_category_dictionary_sizes()[\"dst_type11\"], 'out': 24},\n",
    "        'dst_type12': {'in': preprocessor.get_category_dictionary_sizes()[\"dst_type12\"], 'out': 24},\n",
    "        'src_type22': {'in': preprocessor.get_category_dictionary_sizes()[\"src_type22\"], 'out': 24},\n",
    "        'src_type31': {'in': preprocessor.get_category_dictionary_sizes()[\"src_type31\"], 'out': 24},\n",
    "        'src_type32': {'in': preprocessor.get_category_dictionary_sizes()[\"src_type32\"], 'out': 24},\n",
    "      }\n",
    ")"
   ]
  },
  {
   "cell_type": "markdown",
   "id": "9d74296b-2982-4fe4-bc55-56c15a50b56b",
   "metadata": {},
   "source": [
    "- **TrxEncoder** - обрабатывает каждую тразнакцию (строит для неё эмбеддиг)\n",
    "- **SeqEncoder** - обрабатывает последовательность"
   ]
  },
  {
   "cell_type": "code",
   "execution_count": 14,
   "id": "305b5fd6-4aeb-47ec-a0fd-ae76369a26df",
   "metadata": {},
   "outputs": [
    {
     "name": "stdout",
     "output_type": "stream",
     "text": [
      "CPU times: user 29.3 ms, sys: 0 ns, total: 29.3 ms\n",
      "Wall time: 12.5 ms\n"
     ]
    }
   ],
   "source": [
    "%%time\n",
    "seq_encoder = RnnSeqEncoder(\n",
    "    trx_encoder=TrxEncoder(**trx_encoder_params),\n",
    "    hidden_size=256,\n",
    "    type='gru',\n",
    ")"
   ]
  },
  {
   "cell_type": "code",
   "execution_count": 15,
   "id": "6429dbe3-0b51-4972-9402-9975ea91a1d9",
   "metadata": {},
   "outputs": [
    {
     "name": "stdout",
     "output_type": "stream",
     "text": [
      "CPU times: user 31.2 ms, sys: 0 ns, total: 31.2 ms\n",
      "Wall time: 30.3 ms\n"
     ]
    }
   ],
   "source": [
    "%%time\n",
    "model = CoLESModule(\n",
    "    seq_encoder=seq_encoder,\n",
    "    optimizer_partial=partial(torch.optim.Adam, lr=0.001),\n",
    "    lr_scheduler_partial=partial(torch.optim.lr_scheduler.StepLR, step_size=3, gamma=0.9025)\n",
    ")"
   ]
  },
  {
   "cell_type": "code",
   "execution_count": 16,
   "id": "f1690721-f737-4cd4-9b79-9079e43c2cf0",
   "metadata": {},
   "outputs": [
    {
     "name": "stderr",
     "output_type": "stream",
     "text": [
      "GPU available: True (cuda), used: True\n",
      "TPU available: False, using: 0 TPU cores\n",
      "IPU available: False, using: 0 IPUs\n",
      "HPU available: False, using: 0 HPUs\n"
     ]
    },
    {
     "name": "stdout",
     "output_type": "stream",
     "text": [
      "CPU times: user 329 ms, sys: 41 ms, total: 371 ms\n",
      "Wall time: 377 ms\n"
     ]
    }
   ],
   "source": [
    "%%time\n",
    "trainer = pl.Trainer(\n",
    "    max_epochs=45,\n",
    "    limit_val_batches=5000,\n",
    "    devices=[0],\n",
    "    enable_progress_bar=True,\n",
    "    gradient_clip_val=0.5,\n",
    "    logger=pl.loggers.TensorBoardLogger(\n",
    "        save_dir='./logdir',\n",
    "        name='baseline_pyspark_v1_2_result'\n",
    "    ),\n",
    "    callbacks=[\n",
    "        pl.callbacks.LearningRateMonitor(logging_interval='step'),\n",
    "        pl.callbacks.ModelCheckpoint(every_n_train_steps=5000, save_top_k=-1),\n",
    "    ]\n",
    ")"
   ]
  },
  {
   "cell_type": "code",
   "execution_count": 17,
   "id": "09906682-fac4-44ae-ab18-29ac331b48e0",
   "metadata": {},
   "outputs": [
    {
     "name": "stderr",
     "output_type": "stream",
     "text": [
      "LOCAL_RANK: 0 - CUDA_VISIBLE_DEVICES: [0,1]\n",
      "\n",
      "  | Name               | Type            | Params\n",
      "-------------------------------------------------------\n",
      "0 | _loss              | ContrastiveLoss | 0     \n",
      "1 | _seq_encoder       | RnnSeqEncoder   | 451 K \n",
      "2 | _validation_metric | BatchRecallTopK | 0     \n",
      "3 | _head              | Head            | 0     \n",
      "-------------------------------------------------------\n",
      "451 K     Trainable params\n",
      "0         Non-trainable params\n",
      "451 K     Total params\n",
      "1.805     Total estimated model params size (MB)\n"
     ]
    },
    {
     "data": {
      "application/vnd.jupyter.widget-view+json": {
       "model_id": "",
       "version_major": 2,
       "version_minor": 0
      },
      "text/plain": [
       "Sanity Checking: |                                        | 0/? [00:00<?, ?it/s]"
      ]
     },
     "metadata": {},
     "output_type": "display_data"
    },
    {
     "data": {
      "application/vnd.jupyter.widget-view+json": {
       "model_id": "28fd971e2de84be3bc1f5493561db789",
       "version_major": 2,
       "version_minor": 0
      },
      "text/plain": [
       "Training: |                                               | 0/? [00:00<?, ?it/s]"
      ]
     },
     "metadata": {},
     "output_type": "display_data"
    },
    {
     "data": {
      "application/vnd.jupyter.widget-view+json": {
       "model_id": "",
       "version_major": 2,
       "version_minor": 0
      },
      "text/plain": [
       "Validation: |                                             | 0/? [00:00<?, ?it/s]"
      ]
     },
     "metadata": {},
     "output_type": "display_data"
    },
    {
     "data": {
      "application/vnd.jupyter.widget-view+json": {
       "model_id": "",
       "version_major": 2,
       "version_minor": 0
      },
      "text/plain": [
       "Validation: |                                             | 0/? [00:00<?, ?it/s]"
      ]
     },
     "metadata": {},
     "output_type": "display_data"
    },
    {
     "name": "stderr",
     "output_type": "stream",
     "text": [
      "Run time of job \"Tracker._func_for_sched (trigger: interval[0:00:10], next run at: 2024-06-15 11:24:03 UTC)\" was missed by 0:00:07.583835\n"
     ]
    },
    {
     "data": {
      "application/vnd.jupyter.widget-view+json": {
       "model_id": "",
       "version_major": 2,
       "version_minor": 0
      },
      "text/plain": [
       "Validation: |                                             | 0/? [00:00<?, ?it/s]"
      ]
     },
     "metadata": {},
     "output_type": "display_data"
    },
    {
     "data": {
      "application/vnd.jupyter.widget-view+json": {
       "model_id": "",
       "version_major": 2,
       "version_minor": 0
      },
      "text/plain": [
       "Validation: |                                             | 0/? [00:00<?, ?it/s]"
      ]
     },
     "metadata": {},
     "output_type": "display_data"
    },
    {
     "data": {
      "application/vnd.jupyter.widget-view+json": {
       "model_id": "",
       "version_major": 2,
       "version_minor": 0
      },
      "text/plain": [
       "Validation: |                                             | 0/? [00:00<?, ?it/s]"
      ]
     },
     "metadata": {},
     "output_type": "display_data"
    },
    {
     "data": {
      "application/vnd.jupyter.widget-view+json": {
       "model_id": "",
       "version_major": 2,
       "version_minor": 0
      },
      "text/plain": [
       "Validation: |                                             | 0/? [00:00<?, ?it/s]"
      ]
     },
     "metadata": {},
     "output_type": "display_data"
    },
    {
     "data": {
      "application/vnd.jupyter.widget-view+json": {
       "model_id": "",
       "version_major": 2,
       "version_minor": 0
      },
      "text/plain": [
       "Validation: |                                             | 0/? [00:00<?, ?it/s]"
      ]
     },
     "metadata": {},
     "output_type": "display_data"
    },
    {
     "data": {
      "application/vnd.jupyter.widget-view+json": {
       "model_id": "",
       "version_major": 2,
       "version_minor": 0
      },
      "text/plain": [
       "Validation: |                                             | 0/? [00:00<?, ?it/s]"
      ]
     },
     "metadata": {},
     "output_type": "display_data"
    },
    {
     "data": {
      "application/vnd.jupyter.widget-view+json": {
       "model_id": "",
       "version_major": 2,
       "version_minor": 0
      },
      "text/plain": [
       "Validation: |                                             | 0/? [00:00<?, ?it/s]"
      ]
     },
     "metadata": {},
     "output_type": "display_data"
    },
    {
     "data": {
      "application/vnd.jupyter.widget-view+json": {
       "model_id": "",
       "version_major": 2,
       "version_minor": 0
      },
      "text/plain": [
       "Validation: |                                             | 0/? [00:00<?, ?it/s]"
      ]
     },
     "metadata": {},
     "output_type": "display_data"
    },
    {
     "data": {
      "application/vnd.jupyter.widget-view+json": {
       "model_id": "",
       "version_major": 2,
       "version_minor": 0
      },
      "text/plain": [
       "Validation: |                                             | 0/? [00:00<?, ?it/s]"
      ]
     },
     "metadata": {},
     "output_type": "display_data"
    },
    {
     "name": "stderr",
     "output_type": "stream",
     "text": [
      "Run time of job \"Tracker._func_for_sched (trigger: interval[0:00:10], next run at: 2024-06-15 12:49:23 UTC)\" was missed by 0:00:03.928730\n"
     ]
    },
    {
     "data": {
      "application/vnd.jupyter.widget-view+json": {
       "model_id": "",
       "version_major": 2,
       "version_minor": 0
      },
      "text/plain": [
       "Validation: |                                             | 0/? [00:00<?, ?it/s]"
      ]
     },
     "metadata": {},
     "output_type": "display_data"
    },
    {
     "data": {
      "application/vnd.jupyter.widget-view+json": {
       "model_id": "",
       "version_major": 2,
       "version_minor": 0
      },
      "text/plain": [
       "Validation: |                                             | 0/? [00:00<?, ?it/s]"
      ]
     },
     "metadata": {},
     "output_type": "display_data"
    },
    {
     "data": {
      "application/vnd.jupyter.widget-view+json": {
       "model_id": "",
       "version_major": 2,
       "version_minor": 0
      },
      "text/plain": [
       "Validation: |                                             | 0/? [00:00<?, ?it/s]"
      ]
     },
     "metadata": {},
     "output_type": "display_data"
    },
    {
     "data": {
      "application/vnd.jupyter.widget-view+json": {
       "model_id": "",
       "version_major": 2,
       "version_minor": 0
      },
      "text/plain": [
       "Validation: |                                             | 0/? [00:00<?, ?it/s]"
      ]
     },
     "metadata": {},
     "output_type": "display_data"
    },
    {
     "data": {
      "application/vnd.jupyter.widget-view+json": {
       "model_id": "",
       "version_major": 2,
       "version_minor": 0
      },
      "text/plain": [
       "Validation: |                                             | 0/? [00:00<?, ?it/s]"
      ]
     },
     "metadata": {},
     "output_type": "display_data"
    },
    {
     "name": "stderr",
     "output_type": "stream",
     "text": [
      "Run time of job \"Tracker._func_for_sched (trigger: interval[0:00:10], next run at: 2024-06-15 13:34:23 UTC)\" was missed by 0:00:03.879800\n"
     ]
    },
    {
     "data": {
      "application/vnd.jupyter.widget-view+json": {
       "model_id": "",
       "version_major": 2,
       "version_minor": 0
      },
      "text/plain": [
       "Validation: |                                             | 0/? [00:00<?, ?it/s]"
      ]
     },
     "metadata": {},
     "output_type": "display_data"
    },
    {
     "data": {
      "application/vnd.jupyter.widget-view+json": {
       "model_id": "",
       "version_major": 2,
       "version_minor": 0
      },
      "text/plain": [
       "Validation: |                                             | 0/? [00:00<?, ?it/s]"
      ]
     },
     "metadata": {},
     "output_type": "display_data"
    },
    {
     "data": {
      "application/vnd.jupyter.widget-view+json": {
       "model_id": "",
       "version_major": 2,
       "version_minor": 0
      },
      "text/plain": [
       "Validation: |                                             | 0/? [00:00<?, ?it/s]"
      ]
     },
     "metadata": {},
     "output_type": "display_data"
    },
    {
     "name": "stderr",
     "output_type": "stream",
     "text": [
      "Run time of job \"Tracker._func_for_sched (trigger: interval[0:00:10], next run at: 2024-06-15 14:07:23 UTC)\" was missed by 0:00:03.060442\n"
     ]
    },
    {
     "data": {
      "application/vnd.jupyter.widget-view+json": {
       "model_id": "",
       "version_major": 2,
       "version_minor": 0
      },
      "text/plain": [
       "Validation: |                                             | 0/? [00:00<?, ?it/s]"
      ]
     },
     "metadata": {},
     "output_type": "display_data"
    },
    {
     "data": {
      "application/vnd.jupyter.widget-view+json": {
       "model_id": "",
       "version_major": 2,
       "version_minor": 0
      },
      "text/plain": [
       "Validation: |                                             | 0/? [00:00<?, ?it/s]"
      ]
     },
     "metadata": {},
     "output_type": "display_data"
    },
    {
     "data": {
      "application/vnd.jupyter.widget-view+json": {
       "model_id": "",
       "version_major": 2,
       "version_minor": 0
      },
      "text/plain": [
       "Validation: |                                             | 0/? [00:00<?, ?it/s]"
      ]
     },
     "metadata": {},
     "output_type": "display_data"
    },
    {
     "data": {
      "application/vnd.jupyter.widget-view+json": {
       "model_id": "",
       "version_major": 2,
       "version_minor": 0
      },
      "text/plain": [
       "Validation: |                                             | 0/? [00:00<?, ?it/s]"
      ]
     },
     "metadata": {},
     "output_type": "display_data"
    },
    {
     "data": {
      "application/vnd.jupyter.widget-view+json": {
       "model_id": "",
       "version_major": 2,
       "version_minor": 0
      },
      "text/plain": [
       "Validation: |                                             | 0/? [00:00<?, ?it/s]"
      ]
     },
     "metadata": {},
     "output_type": "display_data"
    },
    {
     "data": {
      "application/vnd.jupyter.widget-view+json": {
       "model_id": "",
       "version_major": 2,
       "version_minor": 0
      },
      "text/plain": [
       "Validation: |                                             | 0/? [00:00<?, ?it/s]"
      ]
     },
     "metadata": {},
     "output_type": "display_data"
    },
    {
     "data": {
      "application/vnd.jupyter.widget-view+json": {
       "model_id": "",
       "version_major": 2,
       "version_minor": 0
      },
      "text/plain": [
       "Validation: |                                             | 0/? [00:00<?, ?it/s]"
      ]
     },
     "metadata": {},
     "output_type": "display_data"
    },
    {
     "data": {
      "application/vnd.jupyter.widget-view+json": {
       "model_id": "",
       "version_major": 2,
       "version_minor": 0
      },
      "text/plain": [
       "Validation: |                                             | 0/? [00:00<?, ?it/s]"
      ]
     },
     "metadata": {},
     "output_type": "display_data"
    },
    {
     "data": {
      "application/vnd.jupyter.widget-view+json": {
       "model_id": "",
       "version_major": 2,
       "version_minor": 0
      },
      "text/plain": [
       "Validation: |                                             | 0/? [00:00<?, ?it/s]"
      ]
     },
     "metadata": {},
     "output_type": "display_data"
    },
    {
     "data": {
      "application/vnd.jupyter.widget-view+json": {
       "model_id": "",
       "version_major": 2,
       "version_minor": 0
      },
      "text/plain": [
       "Validation: |                                             | 0/? [00:00<?, ?it/s]"
      ]
     },
     "metadata": {},
     "output_type": "display_data"
    },
    {
     "data": {
      "application/vnd.jupyter.widget-view+json": {
       "model_id": "",
       "version_major": 2,
       "version_minor": 0
      },
      "text/plain": [
       "Validation: |                                             | 0/? [00:00<?, ?it/s]"
      ]
     },
     "metadata": {},
     "output_type": "display_data"
    },
    {
     "data": {
      "application/vnd.jupyter.widget-view+json": {
       "model_id": "",
       "version_major": 2,
       "version_minor": 0
      },
      "text/plain": [
       "Validation: |                                             | 0/? [00:00<?, ?it/s]"
      ]
     },
     "metadata": {},
     "output_type": "display_data"
    },
    {
     "data": {
      "application/vnd.jupyter.widget-view+json": {
       "model_id": "",
       "version_major": 2,
       "version_minor": 0
      },
      "text/plain": [
       "Validation: |                                             | 0/? [00:00<?, ?it/s]"
      ]
     },
     "metadata": {},
     "output_type": "display_data"
    },
    {
     "data": {
      "application/vnd.jupyter.widget-view+json": {
       "model_id": "",
       "version_major": 2,
       "version_minor": 0
      },
      "text/plain": [
       "Validation: |                                             | 0/? [00:00<?, ?it/s]"
      ]
     },
     "metadata": {},
     "output_type": "display_data"
    },
    {
     "data": {
      "application/vnd.jupyter.widget-view+json": {
       "model_id": "",
       "version_major": 2,
       "version_minor": 0
      },
      "text/plain": [
       "Validation: |                                             | 0/? [00:00<?, ?it/s]"
      ]
     },
     "metadata": {},
     "output_type": "display_data"
    },
    {
     "data": {
      "application/vnd.jupyter.widget-view+json": {
       "model_id": "",
       "version_major": 2,
       "version_minor": 0
      },
      "text/plain": [
       "Validation: |                                             | 0/? [00:00<?, ?it/s]"
      ]
     },
     "metadata": {},
     "output_type": "display_data"
    },
    {
     "data": {
      "application/vnd.jupyter.widget-view+json": {
       "model_id": "",
       "version_major": 2,
       "version_minor": 0
      },
      "text/plain": [
       "Validation: |                                             | 0/? [00:00<?, ?it/s]"
      ]
     },
     "metadata": {},
     "output_type": "display_data"
    },
    {
     "data": {
      "application/vnd.jupyter.widget-view+json": {
       "model_id": "",
       "version_major": 2,
       "version_minor": 0
      },
      "text/plain": [
       "Validation: |                                             | 0/? [00:00<?, ?it/s]"
      ]
     },
     "metadata": {},
     "output_type": "display_data"
    },
    {
     "data": {
      "application/vnd.jupyter.widget-view+json": {
       "model_id": "",
       "version_major": 2,
       "version_minor": 0
      },
      "text/plain": [
       "Validation: |                                             | 0/? [00:00<?, ?it/s]"
      ]
     },
     "metadata": {},
     "output_type": "display_data"
    },
    {
     "name": "stderr",
     "output_type": "stream",
     "text": [
      "Run time of job \"Tracker._func_for_sched (trigger: interval[0:00:10], next run at: 2024-06-15 17:09:43 UTC)\" was missed by 0:00:03.294905\n"
     ]
    },
    {
     "data": {
      "application/vnd.jupyter.widget-view+json": {
       "model_id": "",
       "version_major": 2,
       "version_minor": 0
      },
      "text/plain": [
       "Validation: |                                             | 0/? [00:00<?, ?it/s]"
      ]
     },
     "metadata": {},
     "output_type": "display_data"
    },
    {
     "data": {
      "application/vnd.jupyter.widget-view+json": {
       "model_id": "",
       "version_major": 2,
       "version_minor": 0
      },
      "text/plain": [
       "Validation: |                                             | 0/? [00:00<?, ?it/s]"
      ]
     },
     "metadata": {},
     "output_type": "display_data"
    },
    {
     "data": {
      "application/vnd.jupyter.widget-view+json": {
       "model_id": "",
       "version_major": 2,
       "version_minor": 0
      },
      "text/plain": [
       "Validation: |                                             | 0/? [00:00<?, ?it/s]"
      ]
     },
     "metadata": {},
     "output_type": "display_data"
    },
    {
     "data": {
      "application/vnd.jupyter.widget-view+json": {
       "model_id": "",
       "version_major": 2,
       "version_minor": 0
      },
      "text/plain": [
       "Validation: |                                             | 0/? [00:00<?, ?it/s]"
      ]
     },
     "metadata": {},
     "output_type": "display_data"
    },
    {
     "name": "stderr",
     "output_type": "stream",
     "text": [
      "Run time of job \"Tracker._func_for_sched (trigger: interval[0:00:10], next run at: 2024-06-15 17:40:43 UTC)\" was missed by 0:00:05.777614\n"
     ]
    },
    {
     "data": {
      "application/vnd.jupyter.widget-view+json": {
       "model_id": "63d7b7df90d046178f95026c7e73307f",
       "version_major": 2,
       "version_minor": 0
      },
      "text/plain": [
       "Validation: |                                             | 0/? [00:00<?, ?it/s]"
      ]
     },
     "metadata": {},
     "output_type": "display_data"
    },
    {
     "data": {
      "application/vnd.jupyter.widget-view+json": {
       "model_id": "c5bf79bebff84576af3bf73e06f75512",
       "version_major": 2,
       "version_minor": 0
      },
      "text/plain": [
       "Validation: |                                             | 0/? [00:00<?, ?it/s]"
      ]
     },
     "metadata": {},
     "output_type": "display_data"
    },
    {
     "data": {
      "application/vnd.jupyter.widget-view+json": {
       "model_id": "8b0482439687462196882c3c3703c4e2",
       "version_major": 2,
       "version_minor": 0
      },
      "text/plain": [
       "Validation: |                                             | 0/? [00:00<?, ?it/s]"
      ]
     },
     "metadata": {},
     "output_type": "display_data"
    },
    {
     "name": "stderr",
     "output_type": "stream",
     "text": [
      "`Trainer.fit` stopped: `max_epochs=45` reached.\n"
     ]
    },
    {
     "name": "stdout",
     "output_type": "stream",
     "text": [
      "CPU times: user 6h 14min 12s, sys: 53min 31s, total: 7h 7min 44s\n",
      "Wall time: 7h 5min 43s\n"
     ]
    }
   ],
   "source": [
    "%%time\n",
    "trainer.fit(model, train_dl)"
   ]
  },
  {
   "cell_type": "code",
   "execution_count": 18,
   "id": "1986c680-a431-4bbb-abce-55833bf82827",
   "metadata": {},
   "outputs": [],
   "source": [
    "torch.save(model.state_dict(), './model_pyspark_v1_2.pt')"
   ]
  },
  {
   "cell_type": "markdown",
   "id": "d9e34f2d-b442-41d1-b2fc-5d7afca64020",
   "metadata": {},
   "source": [
    "## 3. Inference"
   ]
  },
  {
   "cell_type": "markdown",
   "id": "c97e3d9c-faca-4adc-a453-526784692ae4",
   "metadata": {},
   "source": [
    "Для каждого пользователя известно 12 таргетов, инференс происходит следующим образом:\n",
    "\n",
    "Чтобы не происходило лика нужно для каждого клиента делать срез до текущего месяца:\n",
    "\n",
    "Берутся все тразнакции за первый месяц, им соответствует 1-ый таргет из 12,\n",
    "потом берутся транзакции за первый и второй месяц пользователя и им соотвествует 2-ой таргет и так далее.\n",
    "То есть для данного пользователя, имеющего транзакции за год, мы можем получить 12 эмбеддингов, каждому из которых соответствует 1 таргет"
   ]
  },
  {
   "cell_type": "code",
   "execution_count": 19,
   "id": "e272ca32-2c84-48d9-bc6c-0b53f7d37db7",
   "metadata": {},
   "outputs": [],
   "source": [
    "class GetSplit(IterableProcessingDataset):\n",
    "    def __init__(\n",
    "        self,\n",
    "        start_month,\n",
    "        end_month,\n",
    "        year=2022,\n",
    "        col_id='client_id',\n",
    "        col_time='event_time'\n",
    "    ):\n",
    "        super().__init__()\n",
    "        self.start_month = start_month\n",
    "        self.end_month = end_month\n",
    "        self._year = year\n",
    "        self._col_id = col_id\n",
    "        self._col_time = col_time\n",
    "\n",
    "    def __iter__(self):\n",
    "        for rec in self._src:\n",
    "            for month in range(self.start_month, self.end_month+1):\n",
    "                features = rec[0] if type(rec) is tuple else rec\n",
    "                features = features.copy()\n",
    "\n",
    "                if month == 12:\n",
    "                    month_event_time = datetime(self._year + 1, 1, 1).timestamp()\n",
    "                else:\n",
    "                    month_event_time = datetime(self._year, month + 1, 1).timestamp()\n",
    "\n",
    "                year_event_time = datetime(self._year, 1, 1).timestamp()\n",
    "\n",
    "                mask = features[self._col_time] < month_event_time\n",
    "\n",
    "                for key, tensor in features.items():\n",
    "                    if key.startswith('target'):\n",
    "                        features[key] = tensor[month - 1].tolist()\n",
    "                    elif key != self._col_id:\n",
    "                        features[key] = tensor[mask]\n",
    "\n",
    "                features[self._col_id] += '_month=' + str(month)\n",
    "\n",
    "                yield features\n",
    "\n",
    "def collate_feature_dict_with_target(batch, col_id='client_id', targets=False):\n",
    "    batch_ids = []\n",
    "    target_cols = []\n",
    "    for sample in batch:\n",
    "        batch_ids.append(sample[col_id])\n",
    "        del sample[col_id]\n",
    "\n",
    "        if targets:\n",
    "            target_cols.append([sample[f'target_{i}'] for i in range(1, 5)])\n",
    "            del sample['target_1']\n",
    "            del sample['target_2']\n",
    "            del sample['target_3']\n",
    "            del sample['target_4']\n",
    "\n",
    "    padded_batch = collate_feature_dict(batch)\n",
    "    if targets:\n",
    "        return padded_batch, batch_ids, target_cols\n",
    "    return padded_batch, batch_ids\n",
    "\n",
    "\n",
    "class InferenceModuleMultimodal(pl.LightningModule):\n",
    "    def __init__(self, model, pandas_output=True, drop_seq_features=True, model_out_name='out'):\n",
    "        super().__init__()\n",
    "\n",
    "        self.model = model\n",
    "        self.pandas_output = pandas_output\n",
    "        self.drop_seq_features = drop_seq_features\n",
    "        self.model_out_name = model_out_name\n",
    "\n",
    "    def forward(self, x):\n",
    "        x_len = len(x)\n",
    "        if x_len == 3:\n",
    "            x, batch_ids, target_cols = x\n",
    "        else:\n",
    "            x, batch_ids = x\n",
    "\n",
    "        out = self.model(x)\n",
    "        if x_len == 3:\n",
    "            target_cols = torch.tensor(target_cols)\n",
    "            x_out = {\n",
    "                'client_id': batch_ids,\n",
    "                'target_1': target_cols[:, 0],\n",
    "                'target_2': target_cols[:, 1],\n",
    "                'target_3': target_cols[:, 2],\n",
    "                'target_4': target_cols[:, 3],\n",
    "                self.model_out_name: out\n",
    "            }\n",
    "        else:\n",
    "            x_out = {\n",
    "                'client_id': batch_ids,\n",
    "                self.model_out_name: out\n",
    "            }\n",
    "        torch.cuda.empty_cache()\n",
    "\n",
    "        if self.pandas_output:\n",
    "            return self.to_pandas(x_out)\n",
    "        return x_out\n",
    "\n",
    "    @staticmethod\n",
    "    def to_pandas(x):\n",
    "        expand_cols = []\n",
    "        scalar_features = {}\n",
    "\n",
    "        for k, v in x.items():\n",
    "            if type(v) is torch.Tensor:\n",
    "                v = v.cpu().numpy()\n",
    "\n",
    "            if type(v) is list or len(v.shape) == 1:\n",
    "                scalar_features[k] = v\n",
    "            elif len(v.shape) == 2:\n",
    "                expand_cols.append(k)\n",
    "            else:\n",
    "                scalar_features[k] = None\n",
    "\n",
    "        dataframes = [pd.DataFrame(scalar_features)]\n",
    "        for col in expand_cols:\n",
    "            v = x[col].cpu().numpy()\n",
    "            dataframes.append(pd.DataFrame(v, columns=[f'{col}_{i:04d}' for i in range(v.shape[1])]))\n",
    "\n",
    "        return pd.concat(dataframes, axis=1)"
   ]
  },
  {
   "cell_type": "code",
   "execution_count": 20,
   "id": "8deb82f8-a185-4adc-b707-bc1a772f76c0",
   "metadata": {},
   "outputs": [
    {
     "data": {
      "text/plain": [
       "<All keys matched successfully>"
      ]
     },
     "execution_count": 20,
     "metadata": {},
     "output_type": "execute_result"
    }
   ],
   "source": [
    "model.load_state_dict(torch.load('model_pyspark_v1_2.pt'))"
   ]
  },
  {
   "cell_type": "code",
   "execution_count": 21,
   "id": "10496455-f208-4842-8a4a-27ed979b46ed",
   "metadata": {},
   "outputs": [
    {
     "name": "stderr",
     "output_type": "stream",
     "text": [
      "Run time of job \"Tracker._func_for_sched (trigger: interval[0:00:10], next run at: 2024-06-15 18:07:03 UTC)\" was missed by 0:00:05.400292\n"
     ]
    },
    {
     "name": "stdout",
     "output_type": "stream",
     "text": [
      "CPU times: user 45.9 s, sys: 13.2 s, total: 59.1 s\n",
      "Wall time: 44.9 s\n"
     ]
    }
   ],
   "source": [
    "%%time\n",
    "test = MemoryMapDataset(\n",
    "    data=ParquetDataset(ParquetFiles('processed_test_pyspark_v1.parquet')),#processed_test.toPandas().to_dict(\"records\"),\n",
    "    i_filters=[\n",
    "        ISeqLenLimit(max_seq_len=4096),\n",
    "        FeatureFilter(keep_feature_names=['client_id', 'target_1', 'target_2', 'target_3', 'target_4']),\n",
    "        ToTorch(),\n",
    "    ]\n",
    ")"
   ]
  },
  {
   "cell_type": "code",
   "execution_count": 22,
   "id": "1d036396-1a7b-495d-b3c1-99d08dc27290",
   "metadata": {},
   "outputs": [],
   "source": [
    "inference_test_dl = DataLoader(\n",
    "        dataset=test,\n",
    "        collate_fn=collate_feature_dict_with_target,\n",
    "        shuffle=False,\n",
    "        num_workers=0,\n",
    "        batch_size=256,\n",
    "    )"
   ]
  },
  {
   "cell_type": "code",
   "execution_count": 23,
   "id": "2f42a612-3451-4ecf-a845-20384e9f3382",
   "metadata": {},
   "outputs": [],
   "source": [
    "inf_module = InferenceModuleMultimodal(\n",
    "        model=model,\n",
    "        pandas_output=True,\n",
    "        drop_seq_features=True,\n",
    "        model_out_name='emb',\n",
    "    )"
   ]
  },
  {
   "cell_type": "code",
   "execution_count": 24,
   "id": "e28a3fe1-f359-4244-b767-5e388ad085f3",
   "metadata": {},
   "outputs": [
    {
     "name": "stderr",
     "output_type": "stream",
     "text": [
      "GPU available: True (cuda), used: True\n",
      "TPU available: False, using: 0 TPU cores\n",
      "IPU available: False, using: 0 IPUs\n",
      "HPU available: False, using: 0 HPUs\n"
     ]
    }
   ],
   "source": [
    "trainer = pl.Trainer(devices=[0], max_epochs=-1)"
   ]
  },
  {
   "cell_type": "code",
   "execution_count": 25,
   "id": "28f8d623-1939-4101-8bcc-9823d9c6e0e6",
   "metadata": {},
   "outputs": [
    {
     "name": "stderr",
     "output_type": "stream",
     "text": [
      "LOCAL_RANK: 0 - CUDA_VISIBLE_DEVICES: [0,1]\n"
     ]
    },
    {
     "data": {
      "application/vnd.jupyter.widget-view+json": {
       "model_id": "b7a81dc7e40a4f499053d9116acc351c",
       "version_major": 2,
       "version_minor": 0
      },
      "text/plain": [
       "Predicting: |                                             | 0/? [00:00<?, ?it/s]"
      ]
     },
     "metadata": {},
     "output_type": "display_data"
    }
   ],
   "source": [
    "inf_test_embeddings = pd.concat(\n",
    "        trainer.predict(inf_module, inference_test_dl)\n",
    "    )\n",
    "inf_test_embeddings.to_parquet(\"test_pyspark_v1_2.parquet\", index=False, engine=\"pyarrow\", compression=\"snappy\")"
   ]
  },
  {
   "cell_type": "code",
   "execution_count": 26,
   "id": "2722e326-2d37-44b8-98d5-101800778519",
   "metadata": {},
   "outputs": [
    {
     "name": "stdout",
     "output_type": "stream",
     "text": [
      "(225744, 257)\n"
     ]
    },
    {
     "data": {
      "text/html": [
       "<div>\n",
       "<style scoped>\n",
       "    .dataframe tbody tr th:only-of-type {\n",
       "        vertical-align: middle;\n",
       "    }\n",
       "\n",
       "    .dataframe tbody tr th {\n",
       "        vertical-align: top;\n",
       "    }\n",
       "\n",
       "    .dataframe thead th {\n",
       "        text-align: right;\n",
       "    }\n",
       "</style>\n",
       "<table border=\"1\" class=\"dataframe\">\n",
       "  <thead>\n",
       "    <tr style=\"text-align: right;\">\n",
       "      <th></th>\n",
       "      <th>client_id</th>\n",
       "      <th>emb_0000</th>\n",
       "      <th>emb_0001</th>\n",
       "      <th>emb_0002</th>\n",
       "      <th>emb_0003</th>\n",
       "      <th>emb_0004</th>\n",
       "      <th>emb_0005</th>\n",
       "      <th>emb_0006</th>\n",
       "      <th>emb_0007</th>\n",
       "      <th>emb_0008</th>\n",
       "      <th>...</th>\n",
       "      <th>emb_0246</th>\n",
       "      <th>emb_0247</th>\n",
       "      <th>emb_0248</th>\n",
       "      <th>emb_0249</th>\n",
       "      <th>emb_0250</th>\n",
       "      <th>emb_0251</th>\n",
       "      <th>emb_0252</th>\n",
       "      <th>emb_0253</th>\n",
       "      <th>emb_0254</th>\n",
       "      <th>emb_0255</th>\n",
       "    </tr>\n",
       "  </thead>\n",
       "  <tbody>\n",
       "    <tr>\n",
       "      <th>0</th>\n",
       "      <td>0003304a0f65d675ddfbc0691e0c564d26a4c9e08edf67...</td>\n",
       "      <td>0.991176</td>\n",
       "      <td>-0.775125</td>\n",
       "      <td>0.757665</td>\n",
       "      <td>0.859406</td>\n",
       "      <td>0.418732</td>\n",
       "      <td>-0.995711</td>\n",
       "      <td>0.998106</td>\n",
       "      <td>0.843568</td>\n",
       "      <td>-0.979261</td>\n",
       "      <td>...</td>\n",
       "      <td>0.945397</td>\n",
       "      <td>1.000000</td>\n",
       "      <td>0.911293</td>\n",
       "      <td>-0.924687</td>\n",
       "      <td>-0.142008</td>\n",
       "      <td>-0.616675</td>\n",
       "      <td>-0.753703</td>\n",
       "      <td>0.148448</td>\n",
       "      <td>0.989438</td>\n",
       "      <td>-0.536777</td>\n",
       "    </tr>\n",
       "    <tr>\n",
       "      <th>1</th>\n",
       "      <td>000bd0936be1275d33846423883b01b78b1c38f992d043...</td>\n",
       "      <td>0.975135</td>\n",
       "      <td>-0.174958</td>\n",
       "      <td>0.624342</td>\n",
       "      <td>0.599224</td>\n",
       "      <td>-0.862071</td>\n",
       "      <td>-0.991283</td>\n",
       "      <td>0.981792</td>\n",
       "      <td>0.824762</td>\n",
       "      <td>-0.981896</td>\n",
       "      <td>...</td>\n",
       "      <td>0.949109</td>\n",
       "      <td>0.899744</td>\n",
       "      <td>0.939540</td>\n",
       "      <td>-0.554023</td>\n",
       "      <td>0.175411</td>\n",
       "      <td>-0.687313</td>\n",
       "      <td>-0.849484</td>\n",
       "      <td>0.620372</td>\n",
       "      <td>0.955219</td>\n",
       "      <td>-0.298517</td>\n",
       "    </tr>\n",
       "  </tbody>\n",
       "</table>\n",
       "<p>2 rows × 257 columns</p>\n",
       "</div>"
      ],
      "text/plain": [
       "                                           client_id  emb_0000  emb_0001  \\\n",
       "0  0003304a0f65d675ddfbc0691e0c564d26a4c9e08edf67...  0.991176 -0.775125   \n",
       "1  000bd0936be1275d33846423883b01b78b1c38f992d043...  0.975135 -0.174958   \n",
       "\n",
       "   emb_0002  emb_0003  emb_0004  emb_0005  emb_0006  emb_0007  emb_0008  ...  \\\n",
       "0  0.757665  0.859406  0.418732 -0.995711  0.998106  0.843568 -0.979261  ...   \n",
       "1  0.624342  0.599224 -0.862071 -0.991283  0.981792  0.824762 -0.981896  ...   \n",
       "\n",
       "   emb_0246  emb_0247  emb_0248  emb_0249  emb_0250  emb_0251  emb_0252  \\\n",
       "0  0.945397  1.000000  0.911293 -0.924687 -0.142008 -0.616675 -0.753703   \n",
       "1  0.949109  0.899744  0.939540 -0.554023  0.175411 -0.687313 -0.849484   \n",
       "\n",
       "   emb_0253  emb_0254  emb_0255  \n",
       "0  0.148448  0.989438 -0.536777  \n",
       "1  0.620372  0.955219 -0.298517  \n",
       "\n",
       "[2 rows x 257 columns]"
      ]
     },
     "execution_count": 26,
     "metadata": {},
     "output_type": "execute_result"
    }
   ],
   "source": [
    "print(inf_test_embeddings.shape)\n",
    "inf_test_embeddings.head(2)"
   ]
  },
  {
   "cell_type": "markdown",
   "id": "4be337e8-34a5-4ada-9c8a-4a39e79a5603",
   "metadata": {},
   "source": [
    "Файл **sample_submission** составляется из **client_id** файла **test_target_b**. Так как не у всех пользователей может быть транзакционная история, мы для простоты заполняем их фичи нулями."
   ]
  },
  {
   "cell_type": "code",
   "execution_count": 27,
   "id": "86920399-33f7-4069-92dc-42885fd227a3",
   "metadata": {},
   "outputs": [
    {
     "name": "stdout",
     "output_type": "stream",
     "text": [
      "CPU times: user 682 ms, sys: 257 ms, total: 938 ms\n",
      "Wall time: 442 ms\n"
     ]
    }
   ],
   "source": [
    "%%time\n",
    "test_target_b = pd.read_parquet(\"Hackathon/test_target_b.parquet\")"
   ]
  },
  {
   "cell_type": "code",
   "execution_count": 28,
   "id": "86b74671-7304-4664-a1dd-b981cb91ac9a",
   "metadata": {},
   "outputs": [
    {
     "data": {
      "text/html": [
       "<div>\n",
       "<style scoped>\n",
       "    .dataframe tbody tr th:only-of-type {\n",
       "        vertical-align: middle;\n",
       "    }\n",
       "\n",
       "    .dataframe tbody tr th {\n",
       "        vertical-align: top;\n",
       "    }\n",
       "\n",
       "    .dataframe thead th {\n",
       "        text-align: right;\n",
       "    }\n",
       "</style>\n",
       "<table border=\"1\" class=\"dataframe\">\n",
       "  <thead>\n",
       "    <tr style=\"text-align: right;\">\n",
       "      <th></th>\n",
       "      <th>client_id</th>\n",
       "      <th>emb_0000</th>\n",
       "      <th>emb_0001</th>\n",
       "      <th>emb_0002</th>\n",
       "      <th>emb_0003</th>\n",
       "      <th>emb_0004</th>\n",
       "      <th>emb_0005</th>\n",
       "      <th>emb_0006</th>\n",
       "      <th>emb_0007</th>\n",
       "      <th>emb_0008</th>\n",
       "      <th>...</th>\n",
       "      <th>emb_0246</th>\n",
       "      <th>emb_0247</th>\n",
       "      <th>emb_0248</th>\n",
       "      <th>emb_0249</th>\n",
       "      <th>emb_0250</th>\n",
       "      <th>emb_0251</th>\n",
       "      <th>emb_0252</th>\n",
       "      <th>emb_0253</th>\n",
       "      <th>emb_0254</th>\n",
       "      <th>emb_0255</th>\n",
       "    </tr>\n",
       "  </thead>\n",
       "  <tbody>\n",
       "    <tr>\n",
       "      <th>0</th>\n",
       "      <td>2b7ff0c1c99cefe259ed83c5dfa0a403f2cbc88032b671...</td>\n",
       "      <td>0.993582</td>\n",
       "      <td>0.481427</td>\n",
       "      <td>0.360624</td>\n",
       "      <td>0.360467</td>\n",
       "      <td>-0.897656</td>\n",
       "      <td>-0.995617</td>\n",
       "      <td>0.999655</td>\n",
       "      <td>0.900769</td>\n",
       "      <td>-0.985567</td>\n",
       "      <td>...</td>\n",
       "      <td>0.952166</td>\n",
       "      <td>0.998346</td>\n",
       "      <td>0.914159</td>\n",
       "      <td>-0.749460</td>\n",
       "      <td>0.480764</td>\n",
       "      <td>-0.703740</td>\n",
       "      <td>-0.865454</td>\n",
       "      <td>0.163078</td>\n",
       "      <td>0.995917</td>\n",
       "      <td>-0.308854</td>\n",
       "    </tr>\n",
       "    <tr>\n",
       "      <th>1</th>\n",
       "      <td>0433d23e224b7a520656da6181efadb8d556bb293158c9...</td>\n",
       "      <td>0.925823</td>\n",
       "      <td>-0.232634</td>\n",
       "      <td>0.547064</td>\n",
       "      <td>0.287713</td>\n",
       "      <td>-0.858418</td>\n",
       "      <td>-0.939000</td>\n",
       "      <td>0.875962</td>\n",
       "      <td>0.781385</td>\n",
       "      <td>-0.946616</td>\n",
       "      <td>...</td>\n",
       "      <td>0.933649</td>\n",
       "      <td>0.937286</td>\n",
       "      <td>0.864485</td>\n",
       "      <td>-0.285547</td>\n",
       "      <td>0.085621</td>\n",
       "      <td>-0.628492</td>\n",
       "      <td>-0.771841</td>\n",
       "      <td>0.540046</td>\n",
       "      <td>0.846965</td>\n",
       "      <td>-0.257493</td>\n",
       "    </tr>\n",
       "    <tr>\n",
       "      <th>2</th>\n",
       "      <td>f2ce8b292e5f9f778f3e20db7608ac76dc8812113a2631...</td>\n",
       "      <td>0.000000</td>\n",
       "      <td>0.000000</td>\n",
       "      <td>0.000000</td>\n",
       "      <td>0.000000</td>\n",
       "      <td>0.000000</td>\n",
       "      <td>0.000000</td>\n",
       "      <td>0.000000</td>\n",
       "      <td>0.000000</td>\n",
       "      <td>0.000000</td>\n",
       "      <td>...</td>\n",
       "      <td>0.000000</td>\n",
       "      <td>0.000000</td>\n",
       "      <td>0.000000</td>\n",
       "      <td>0.000000</td>\n",
       "      <td>0.000000</td>\n",
       "      <td>0.000000</td>\n",
       "      <td>0.000000</td>\n",
       "      <td>0.000000</td>\n",
       "      <td>0.000000</td>\n",
       "      <td>0.000000</td>\n",
       "    </tr>\n",
       "    <tr>\n",
       "      <th>3</th>\n",
       "      <td>4f807e8b163c653bcaeff9f925983568f4c3e6b1a1f231...</td>\n",
       "      <td>0.990614</td>\n",
       "      <td>0.196399</td>\n",
       "      <td>0.549216</td>\n",
       "      <td>0.756582</td>\n",
       "      <td>-0.874799</td>\n",
       "      <td>-0.995653</td>\n",
       "      <td>0.998794</td>\n",
       "      <td>0.867110</td>\n",
       "      <td>-0.984767</td>\n",
       "      <td>...</td>\n",
       "      <td>0.953464</td>\n",
       "      <td>0.997684</td>\n",
       "      <td>0.924558</td>\n",
       "      <td>-0.716014</td>\n",
       "      <td>0.243287</td>\n",
       "      <td>-0.700432</td>\n",
       "      <td>-0.855004</td>\n",
       "      <td>0.455324</td>\n",
       "      <td>0.989093</td>\n",
       "      <td>-0.305245</td>\n",
       "    </tr>\n",
       "    <tr>\n",
       "      <th>4</th>\n",
       "      <td>64369f6f8ae1b719332ee1bfb2b454e642b2053d2c9b8a...</td>\n",
       "      <td>0.979018</td>\n",
       "      <td>-0.325149</td>\n",
       "      <td>0.691433</td>\n",
       "      <td>0.794108</td>\n",
       "      <td>-0.875588</td>\n",
       "      <td>-0.992033</td>\n",
       "      <td>0.987105</td>\n",
       "      <td>0.828518</td>\n",
       "      <td>-0.983828</td>\n",
       "      <td>...</td>\n",
       "      <td>0.953093</td>\n",
       "      <td>0.996554</td>\n",
       "      <td>0.915376</td>\n",
       "      <td>-0.739537</td>\n",
       "      <td>0.057866</td>\n",
       "      <td>-0.690133</td>\n",
       "      <td>-0.843768</td>\n",
       "      <td>0.681804</td>\n",
       "      <td>0.966470</td>\n",
       "      <td>-0.282144</td>\n",
       "    </tr>\n",
       "    <tr>\n",
       "      <th>...</th>\n",
       "      <td>...</td>\n",
       "      <td>...</td>\n",
       "      <td>...</td>\n",
       "      <td>...</td>\n",
       "      <td>...</td>\n",
       "      <td>...</td>\n",
       "      <td>...</td>\n",
       "      <td>...</td>\n",
       "      <td>...</td>\n",
       "      <td>...</td>\n",
       "      <td>...</td>\n",
       "      <td>...</td>\n",
       "      <td>...</td>\n",
       "      <td>...</td>\n",
       "      <td>...</td>\n",
       "      <td>...</td>\n",
       "      <td>...</td>\n",
       "      <td>...</td>\n",
       "      <td>...</td>\n",
       "      <td>...</td>\n",
       "      <td>...</td>\n",
       "    </tr>\n",
       "    <tr>\n",
       "      <th>140483</th>\n",
       "      <td>d49a66825bb16ceb5b6a01126e1f2391b085dba8da44ee...</td>\n",
       "      <td>0.991935</td>\n",
       "      <td>-0.443565</td>\n",
       "      <td>0.615571</td>\n",
       "      <td>0.921626</td>\n",
       "      <td>-0.862225</td>\n",
       "      <td>-0.995579</td>\n",
       "      <td>0.998275</td>\n",
       "      <td>0.898744</td>\n",
       "      <td>-0.984747</td>\n",
       "      <td>...</td>\n",
       "      <td>0.951937</td>\n",
       "      <td>0.977213</td>\n",
       "      <td>0.944685</td>\n",
       "      <td>-0.918739</td>\n",
       "      <td>0.161215</td>\n",
       "      <td>-0.703765</td>\n",
       "      <td>-0.869006</td>\n",
       "      <td>0.772829</td>\n",
       "      <td>0.997627</td>\n",
       "      <td>-0.303569</td>\n",
       "    </tr>\n",
       "    <tr>\n",
       "      <th>140484</th>\n",
       "      <td>f772af6720c0b591d49b97946c5e420c1c077affc0f7c7...</td>\n",
       "      <td>0.974042</td>\n",
       "      <td>-0.147920</td>\n",
       "      <td>0.628482</td>\n",
       "      <td>0.548956</td>\n",
       "      <td>-0.846709</td>\n",
       "      <td>-0.992496</td>\n",
       "      <td>0.988769</td>\n",
       "      <td>0.823263</td>\n",
       "      <td>-0.976343</td>\n",
       "      <td>...</td>\n",
       "      <td>0.951666</td>\n",
       "      <td>0.984762</td>\n",
       "      <td>0.933384</td>\n",
       "      <td>-0.505999</td>\n",
       "      <td>0.154068</td>\n",
       "      <td>-0.691299</td>\n",
       "      <td>-0.841191</td>\n",
       "      <td>0.597951</td>\n",
       "      <td>0.957712</td>\n",
       "      <td>-0.298026</td>\n",
       "    </tr>\n",
       "    <tr>\n",
       "      <th>140485</th>\n",
       "      <td>06b282335bc4853f888e1ab50a6ba23a8e420d42313959...</td>\n",
       "      <td>0.987940</td>\n",
       "      <td>-0.337652</td>\n",
       "      <td>0.695684</td>\n",
       "      <td>0.738949</td>\n",
       "      <td>-0.859841</td>\n",
       "      <td>-0.995145</td>\n",
       "      <td>0.995775</td>\n",
       "      <td>0.861593</td>\n",
       "      <td>-0.984743</td>\n",
       "      <td>...</td>\n",
       "      <td>0.951058</td>\n",
       "      <td>0.966477</td>\n",
       "      <td>0.945906</td>\n",
       "      <td>-0.670607</td>\n",
       "      <td>0.079111</td>\n",
       "      <td>-0.702650</td>\n",
       "      <td>-0.855105</td>\n",
       "      <td>0.682940</td>\n",
       "      <td>0.984890</td>\n",
       "      <td>-0.302003</td>\n",
       "    </tr>\n",
       "    <tr>\n",
       "      <th>140486</th>\n",
       "      <td>90d423a25d7cdaf674f7d78bc37d88830443ff17717e02...</td>\n",
       "      <td>0.994131</td>\n",
       "      <td>-0.199934</td>\n",
       "      <td>0.713510</td>\n",
       "      <td>0.884460</td>\n",
       "      <td>-0.880511</td>\n",
       "      <td>-0.995466</td>\n",
       "      <td>0.999745</td>\n",
       "      <td>0.896407</td>\n",
       "      <td>-0.985092</td>\n",
       "      <td>...</td>\n",
       "      <td>0.952036</td>\n",
       "      <td>0.996287</td>\n",
       "      <td>0.933817</td>\n",
       "      <td>-0.933032</td>\n",
       "      <td>0.530462</td>\n",
       "      <td>-0.717942</td>\n",
       "      <td>-0.859598</td>\n",
       "      <td>0.622882</td>\n",
       "      <td>0.997916</td>\n",
       "      <td>-0.305930</td>\n",
       "    </tr>\n",
       "    <tr>\n",
       "      <th>140487</th>\n",
       "      <td>f63e55b226d3732b8b4927be8a2cdc7fb88ff2bb0561e2...</td>\n",
       "      <td>0.991646</td>\n",
       "      <td>0.429569</td>\n",
       "      <td>0.451045</td>\n",
       "      <td>0.136561</td>\n",
       "      <td>-0.870250</td>\n",
       "      <td>-0.994638</td>\n",
       "      <td>0.996563</td>\n",
       "      <td>0.885283</td>\n",
       "      <td>-0.984513</td>\n",
       "      <td>...</td>\n",
       "      <td>0.949513</td>\n",
       "      <td>0.815775</td>\n",
       "      <td>0.950864</td>\n",
       "      <td>-0.587350</td>\n",
       "      <td>0.349719</td>\n",
       "      <td>-0.697779</td>\n",
       "      <td>-0.864528</td>\n",
       "      <td>0.157868</td>\n",
       "      <td>0.984055</td>\n",
       "      <td>-0.320998</td>\n",
       "    </tr>\n",
       "  </tbody>\n",
       "</table>\n",
       "<p>140488 rows × 257 columns</p>\n",
       "</div>"
      ],
      "text/plain": [
       "                                                client_id  emb_0000  emb_0001  \\\n",
       "0       2b7ff0c1c99cefe259ed83c5dfa0a403f2cbc88032b671...  0.993582  0.481427   \n",
       "1       0433d23e224b7a520656da6181efadb8d556bb293158c9...  0.925823 -0.232634   \n",
       "2       f2ce8b292e5f9f778f3e20db7608ac76dc8812113a2631...  0.000000  0.000000   \n",
       "3       4f807e8b163c653bcaeff9f925983568f4c3e6b1a1f231...  0.990614  0.196399   \n",
       "4       64369f6f8ae1b719332ee1bfb2b454e642b2053d2c9b8a...  0.979018 -0.325149   \n",
       "...                                                   ...       ...       ...   \n",
       "140483  d49a66825bb16ceb5b6a01126e1f2391b085dba8da44ee...  0.991935 -0.443565   \n",
       "140484  f772af6720c0b591d49b97946c5e420c1c077affc0f7c7...  0.974042 -0.147920   \n",
       "140485  06b282335bc4853f888e1ab50a6ba23a8e420d42313959...  0.987940 -0.337652   \n",
       "140486  90d423a25d7cdaf674f7d78bc37d88830443ff17717e02...  0.994131 -0.199934   \n",
       "140487  f63e55b226d3732b8b4927be8a2cdc7fb88ff2bb0561e2...  0.991646  0.429569   \n",
       "\n",
       "        emb_0002  emb_0003  emb_0004  emb_0005  emb_0006  emb_0007  emb_0008  \\\n",
       "0       0.360624  0.360467 -0.897656 -0.995617  0.999655  0.900769 -0.985567   \n",
       "1       0.547064  0.287713 -0.858418 -0.939000  0.875962  0.781385 -0.946616   \n",
       "2       0.000000  0.000000  0.000000  0.000000  0.000000  0.000000  0.000000   \n",
       "3       0.549216  0.756582 -0.874799 -0.995653  0.998794  0.867110 -0.984767   \n",
       "4       0.691433  0.794108 -0.875588 -0.992033  0.987105  0.828518 -0.983828   \n",
       "...          ...       ...       ...       ...       ...       ...       ...   \n",
       "140483  0.615571  0.921626 -0.862225 -0.995579  0.998275  0.898744 -0.984747   \n",
       "140484  0.628482  0.548956 -0.846709 -0.992496  0.988769  0.823263 -0.976343   \n",
       "140485  0.695684  0.738949 -0.859841 -0.995145  0.995775  0.861593 -0.984743   \n",
       "140486  0.713510  0.884460 -0.880511 -0.995466  0.999745  0.896407 -0.985092   \n",
       "140487  0.451045  0.136561 -0.870250 -0.994638  0.996563  0.885283 -0.984513   \n",
       "\n",
       "        ...  emb_0246  emb_0247  emb_0248  emb_0249  emb_0250  emb_0251  \\\n",
       "0       ...  0.952166  0.998346  0.914159 -0.749460  0.480764 -0.703740   \n",
       "1       ...  0.933649  0.937286  0.864485 -0.285547  0.085621 -0.628492   \n",
       "2       ...  0.000000  0.000000  0.000000  0.000000  0.000000  0.000000   \n",
       "3       ...  0.953464  0.997684  0.924558 -0.716014  0.243287 -0.700432   \n",
       "4       ...  0.953093  0.996554  0.915376 -0.739537  0.057866 -0.690133   \n",
       "...     ...       ...       ...       ...       ...       ...       ...   \n",
       "140483  ...  0.951937  0.977213  0.944685 -0.918739  0.161215 -0.703765   \n",
       "140484  ...  0.951666  0.984762  0.933384 -0.505999  0.154068 -0.691299   \n",
       "140485  ...  0.951058  0.966477  0.945906 -0.670607  0.079111 -0.702650   \n",
       "140486  ...  0.952036  0.996287  0.933817 -0.933032  0.530462 -0.717942   \n",
       "140487  ...  0.949513  0.815775  0.950864 -0.587350  0.349719 -0.697779   \n",
       "\n",
       "        emb_0252  emb_0253  emb_0254  emb_0255  \n",
       "0      -0.865454  0.163078  0.995917 -0.308854  \n",
       "1      -0.771841  0.540046  0.846965 -0.257493  \n",
       "2       0.000000  0.000000  0.000000  0.000000  \n",
       "3      -0.855004  0.455324  0.989093 -0.305245  \n",
       "4      -0.843768  0.681804  0.966470 -0.282144  \n",
       "...          ...       ...       ...       ...  \n",
       "140483 -0.869006  0.772829  0.997627 -0.303569  \n",
       "140484 -0.841191  0.597951  0.957712 -0.298026  \n",
       "140485 -0.855105  0.682940  0.984890 -0.302003  \n",
       "140486 -0.859598  0.622882  0.997916 -0.305930  \n",
       "140487 -0.864528  0.157868  0.984055 -0.320998  \n",
       "\n",
       "[140488 rows x 257 columns]"
      ]
     },
     "execution_count": 28,
     "metadata": {},
     "output_type": "execute_result"
    }
   ],
   "source": [
    "not_only_trx = pd.DataFrame({\"client_id\": test_target_b[\"client_id\"].unique()}).merge(inf_test_embeddings, how=\"left\").fillna(0)\n",
    "not_only_trx"
   ]
  },
  {
   "cell_type": "code",
   "execution_count": 29,
   "id": "c6e881b9-1311-48fb-b98b-636417a67ad4",
   "metadata": {},
   "outputs": [],
   "source": [
    "not_only_trx.to_parquet(\"test_pyspark_v1_2.parquet\", index=False, engine=\"pyarrow\", compression=\"snappy\")"
   ]
  },
  {
   "cell_type": "code",
   "execution_count": 30,
   "id": "9080eac0-9071-450a-bcb5-9c3369ceba7e",
   "metadata": {},
   "outputs": [
    {
     "name": "stdout",
     "output_type": "stream",
     "text": [
      "(140488, 257)\n"
     ]
    },
    {
     "data": {
      "text/html": [
       "<div>\n",
       "<style scoped>\n",
       "    .dataframe tbody tr th:only-of-type {\n",
       "        vertical-align: middle;\n",
       "    }\n",
       "\n",
       "    .dataframe tbody tr th {\n",
       "        vertical-align: top;\n",
       "    }\n",
       "\n",
       "    .dataframe thead th {\n",
       "        text-align: right;\n",
       "    }\n",
       "</style>\n",
       "<table border=\"1\" class=\"dataframe\">\n",
       "  <thead>\n",
       "    <tr style=\"text-align: right;\">\n",
       "      <th></th>\n",
       "      <th>client_id</th>\n",
       "      <th>emb_0000</th>\n",
       "      <th>emb_0001</th>\n",
       "      <th>emb_0002</th>\n",
       "      <th>emb_0003</th>\n",
       "      <th>emb_0004</th>\n",
       "      <th>emb_0005</th>\n",
       "      <th>emb_0006</th>\n",
       "      <th>emb_0007</th>\n",
       "      <th>emb_0008</th>\n",
       "      <th>...</th>\n",
       "      <th>emb_0246</th>\n",
       "      <th>emb_0247</th>\n",
       "      <th>emb_0248</th>\n",
       "      <th>emb_0249</th>\n",
       "      <th>emb_0250</th>\n",
       "      <th>emb_0251</th>\n",
       "      <th>emb_0252</th>\n",
       "      <th>emb_0253</th>\n",
       "      <th>emb_0254</th>\n",
       "      <th>emb_0255</th>\n",
       "    </tr>\n",
       "  </thead>\n",
       "  <tbody>\n",
       "    <tr>\n",
       "      <th>0</th>\n",
       "      <td>2b7ff0c1c99cefe259ed83c5dfa0a403f2cbc88032b671...</td>\n",
       "      <td>0.993582</td>\n",
       "      <td>0.481427</td>\n",
       "      <td>0.360624</td>\n",
       "      <td>0.360467</td>\n",
       "      <td>-0.897656</td>\n",
       "      <td>-0.995617</td>\n",
       "      <td>0.999655</td>\n",
       "      <td>0.900769</td>\n",
       "      <td>-0.985567</td>\n",
       "      <td>...</td>\n",
       "      <td>0.952166</td>\n",
       "      <td>0.998346</td>\n",
       "      <td>0.914159</td>\n",
       "      <td>-0.749460</td>\n",
       "      <td>0.480764</td>\n",
       "      <td>-0.703740</td>\n",
       "      <td>-0.865454</td>\n",
       "      <td>0.163078</td>\n",
       "      <td>0.995917</td>\n",
       "      <td>-0.308854</td>\n",
       "    </tr>\n",
       "    <tr>\n",
       "      <th>1</th>\n",
       "      <td>0433d23e224b7a520656da6181efadb8d556bb293158c9...</td>\n",
       "      <td>0.925823</td>\n",
       "      <td>-0.232634</td>\n",
       "      <td>0.547064</td>\n",
       "      <td>0.287713</td>\n",
       "      <td>-0.858418</td>\n",
       "      <td>-0.939000</td>\n",
       "      <td>0.875962</td>\n",
       "      <td>0.781385</td>\n",
       "      <td>-0.946616</td>\n",
       "      <td>...</td>\n",
       "      <td>0.933649</td>\n",
       "      <td>0.937286</td>\n",
       "      <td>0.864485</td>\n",
       "      <td>-0.285547</td>\n",
       "      <td>0.085621</td>\n",
       "      <td>-0.628492</td>\n",
       "      <td>-0.771841</td>\n",
       "      <td>0.540046</td>\n",
       "      <td>0.846965</td>\n",
       "      <td>-0.257493</td>\n",
       "    </tr>\n",
       "  </tbody>\n",
       "</table>\n",
       "<p>2 rows × 257 columns</p>\n",
       "</div>"
      ],
      "text/plain": [
       "                                           client_id  emb_0000  emb_0001  \\\n",
       "0  2b7ff0c1c99cefe259ed83c5dfa0a403f2cbc88032b671...  0.993582  0.481427   \n",
       "1  0433d23e224b7a520656da6181efadb8d556bb293158c9...  0.925823 -0.232634   \n",
       "\n",
       "   emb_0002  emb_0003  emb_0004  emb_0005  emb_0006  emb_0007  emb_0008  ...  \\\n",
       "0  0.360624  0.360467 -0.897656 -0.995617  0.999655  0.900769 -0.985567  ...   \n",
       "1  0.547064  0.287713 -0.858418 -0.939000  0.875962  0.781385 -0.946616  ...   \n",
       "\n",
       "   emb_0246  emb_0247  emb_0248  emb_0249  emb_0250  emb_0251  emb_0252  \\\n",
       "0  0.952166  0.998346  0.914159 -0.749460  0.480764 -0.703740 -0.865454   \n",
       "1  0.933649  0.937286  0.864485 -0.285547  0.085621 -0.628492 -0.771841   \n",
       "\n",
       "   emb_0253  emb_0254  emb_0255  \n",
       "0  0.163078  0.995917 -0.308854  \n",
       "1  0.540046  0.846965 -0.257493  \n",
       "\n",
       "[2 rows x 257 columns]"
      ]
     },
     "execution_count": 30,
     "metadata": {},
     "output_type": "execute_result"
    }
   ],
   "source": [
    "print(not_only_trx.shape)\n",
    "not_only_trx.head(2)"
   ]
  },
  {
   "cell_type": "code",
   "execution_count": 31,
   "id": "2c1425b0-7478-47de-b10d-03c5a7fc91a0",
   "metadata": {},
   "outputs": [
    {
     "data": {
      "text/plain": [
       "'2b7ff0c1c99cefe259ed83c5dfa0a403f2cbc88032b671d0bcb425e90932db07'"
      ]
     },
     "execution_count": 31,
     "metadata": {},
     "output_type": "execute_result"
    }
   ],
   "source": [
    "not_only_trx.client_id.values[0]"
   ]
  },
  {
   "cell_type": "code",
   "execution_count": 32,
   "id": "d3ac20a2-ddb5-4ffe-9ef9-996dd3ac177b",
   "metadata": {},
   "outputs": [],
   "source": [
    "del inf_test_embeddings"
   ]
  },
  {
   "cell_type": "code",
   "execution_count": 33,
   "id": "bf34d9f7-54a2-42ed-b340-63936119731a",
   "metadata": {},
   "outputs": [
    {
     "name": "stdout",
     "output_type": "stream",
     "text": [
      "================================================================================\n",
      "1\n",
      "Sat Jun 15 18:09:29 2024\n"
     ]
    },
    {
     "name": "stderr",
     "output_type": "stream",
     "text": [
      "Run time of job \"Tracker._func_for_sched (trigger: interval[0:00:10], next run at: 2024-06-15 18:11:03 UTC)\" was missed by 0:00:06.441183\n",
      "Run time of job \"Tracker._func_for_sched (trigger: interval[0:00:10], next run at: 2024-06-15 18:14:43 UTC)\" was missed by 0:00:08.149081\n",
      "Run time of job \"Tracker._func_for_sched (trigger: interval[0:00:10], next run at: 2024-06-15 18:19:33 UTC)\" was missed by 0:00:07.136929\n",
      "LOCAL_RANK: 0 - CUDA_VISIBLE_DEVICES: [0,1]\n"
     ]
    },
    {
     "data": {
      "application/vnd.jupyter.widget-view+json": {
       "model_id": "f15f9f82aac04e33ab3c32a32143ceeb",
       "version_major": 2,
       "version_minor": 0
      },
      "text/plain": [
       "Predicting: |                                             | 0/? [00:00<?, ?it/s]"
      ]
     },
     "metadata": {},
     "output_type": "display_data"
    },
    {
     "name": "stdout",
     "output_type": "stream",
     "text": [
      "(2162742, 257)\n",
      "================================================================================\n",
      "3\n",
      "Sat Jun 15 18:29:42 2024\n"
     ]
    },
    {
     "name": "stderr",
     "output_type": "stream",
     "text": [
      "Run time of job \"Tracker._func_for_sched (trigger: interval[0:00:10], next run at: 2024-06-15 18:32:23 UTC)\" was missed by 0:00:03.444165\n",
      "Run time of job \"Tracker._func_for_sched (trigger: interval[0:00:10], next run at: 2024-06-15 18:39:53 UTC)\" was missed by 0:00:05.030341\n",
      "Run time of job \"Tracker._func_for_sched (trigger: interval[0:00:10], next run at: 2024-06-15 18:44:33 UTC)\" was missed by 0:00:09.600140\n",
      "LOCAL_RANK: 0 - CUDA_VISIBLE_DEVICES: [0,1]\n"
     ]
    },
    {
     "data": {
      "application/vnd.jupyter.widget-view+json": {
       "model_id": "a116cc3c78874d8886ad1bf4a8e2afa7",
       "version_major": 2,
       "version_minor": 0
      },
      "text/plain": [
       "Predicting: |                                             | 0/? [00:00<?, ?it/s]"
      ]
     },
     "metadata": {},
     "output_type": "display_data"
    },
    {
     "name": "stdout",
     "output_type": "stream",
     "text": [
      "(2162742, 257)\n",
      "================================================================================\n",
      "5\n",
      "Sat Jun 15 18:54:59 2024\n"
     ]
    },
    {
     "name": "stderr",
     "output_type": "stream",
     "text": [
      "Run time of job \"Tracker._func_for_sched (trigger: interval[0:00:10], next run at: 2024-06-15 19:01:13 UTC)\" was missed by 0:00:04.951345\n",
      "Run time of job \"Tracker._func_for_sched (trigger: interval[0:00:10], next run at: 2024-06-15 19:11:13 UTC)\" was missed by 0:00:08.448665\n",
      "Run time of job \"Tracker._func_for_sched (trigger: interval[0:00:10], next run at: 2024-06-15 19:12:53 UTC)\" was missed by 0:00:01.095076\n",
      "LOCAL_RANK: 0 - CUDA_VISIBLE_DEVICES: [0,1]\n"
     ]
    },
    {
     "data": {
      "application/vnd.jupyter.widget-view+json": {
       "model_id": "ea7d246abf4d4bd5945ee30a64916930",
       "version_major": 2,
       "version_minor": 0
      },
      "text/plain": [
       "Predicting: |                                             | 0/? [00:00<?, ?it/s]"
      ]
     },
     "metadata": {},
     "output_type": "display_data"
    },
    {
     "name": "stdout",
     "output_type": "stream",
     "text": [
      "(2162742, 257)\n",
      "================================================================================\n",
      "7\n",
      "Sat Jun 15 19:26:20 2024\n"
     ]
    },
    {
     "name": "stderr",
     "output_type": "stream",
     "text": [
      "Run time of job \"Tracker._func_for_sched (trigger: interval[0:00:10], next run at: 2024-06-15 19:38:13 UTC)\" was missed by 0:00:08.191614\n",
      "LOCAL_RANK: 0 - CUDA_VISIBLE_DEVICES: [0,1]\n"
     ]
    },
    {
     "data": {
      "application/vnd.jupyter.widget-view+json": {
       "model_id": "b4e43ec2f2354ec190d194a3acbcca3f",
       "version_major": 2,
       "version_minor": 0
      },
      "text/plain": [
       "Predicting: |                                             | 0/? [00:00<?, ?it/s]"
      ]
     },
     "metadata": {},
     "output_type": "display_data"
    },
    {
     "name": "stderr",
     "output_type": "stream",
     "text": [
      "Run time of job \"Tracker._func_for_sched (trigger: interval[0:00:10], next run at: 2024-06-15 19:44:53 UTC)\" was missed by 0:00:01.198634\n"
     ]
    },
    {
     "name": "stdout",
     "output_type": "stream",
     "text": [
      "(2162742, 257)\n",
      "================================================================================\n",
      "9\n",
      "Sat Jun 15 20:00:58 2024\n"
     ]
    },
    {
     "name": "stderr",
     "output_type": "stream",
     "text": [
      "Run time of job \"Tracker._func_for_sched (trigger: interval[0:00:10], next run at: 2024-06-15 20:07:33 UTC)\" was missed by 0:00:05.473114\n",
      "Run time of job \"Tracker._func_for_sched (trigger: interval[0:00:10], next run at: 2024-06-15 20:17:43 UTC)\" was missed by 0:00:01.710566\n",
      "LOCAL_RANK: 0 - CUDA_VISIBLE_DEVICES: [0,1]\n",
      "Run time of job \"Tracker._func_for_sched (trigger: interval[0:00:10], next run at: 2024-06-15 20:20:03 UTC)\" was missed by 0:00:01.439097\n"
     ]
    },
    {
     "data": {
      "application/vnd.jupyter.widget-view+json": {
       "model_id": "c69e982f1276471185ee0ff355883401",
       "version_major": 2,
       "version_minor": 0
      },
      "text/plain": [
       "Predicting: |                                             | 0/? [00:00<?, ?it/s]"
      ]
     },
     "metadata": {},
     "output_type": "display_data"
    },
    {
     "name": "stdout",
     "output_type": "stream",
     "text": [
      "(2162742, 257)\n",
      "================================================================================\n",
      "11\n",
      "Sat Jun 15 20:39:43 2024\n"
     ]
    },
    {
     "name": "stderr",
     "output_type": "stream",
     "text": [
      "Run time of job \"Tracker._func_for_sched (trigger: interval[0:00:10], next run at: 2024-06-15 20:52:33 UTC)\" was missed by 0:00:03.901395\n",
      "LOCAL_RANK: 0 - CUDA_VISIBLE_DEVICES: [0,1]\n"
     ]
    },
    {
     "data": {
      "application/vnd.jupyter.widget-view+json": {
       "model_id": "e7d9d24d28ec445e822b2e9076bd5fa7",
       "version_major": 2,
       "version_minor": 0
      },
      "text/plain": [
       "Predicting: |                                             | 0/? [00:02<?, ?it/s]"
      ]
     },
     "metadata": {},
     "output_type": "display_data"
    },
    {
     "name": "stderr",
     "output_type": "stream",
     "text": [
      "Run time of job \"Tracker._func_for_sched (trigger: interval[0:00:10], next run at: 2024-06-15 21:00:13 UTC)\" was missed by 0:00:01.807374\n"
     ]
    },
    {
     "name": "stdout",
     "output_type": "stream",
     "text": [
      "(2162742, 257)\n"
     ]
    }
   ],
   "source": [
    "for j in [1, 3, 5, 7, 9, 11]:\n",
    "    print('='*80)\n",
    "    print(j)\n",
    "    print(time.ctime())\n",
    "\n",
    "    train = MemoryMapDataset(\n",
    "        #data=processed_train.merge(processed_target9.drop([\"event_time\", 'target_len','new_mon'], axis=1), \n",
    "        #                           on=\"client_id\", how=\"inner\").to_dict(\"records\"),\n",
    "        ParquetDataset(ParquetFiles('processed_train_pyspark_v1.parquet')),\n",
    "        \n",
    "        i_filters=[\n",
    "            ISeqLenLimit(max_seq_len=4096),\n",
    "            FeatureFilter(keep_feature_names=['client_id', 'target_1', 'target_2', 'target_3', 'target_4']),#\n",
    "            GetSplit(start_month=j, end_month=j+1),\n",
    "            ToTorch(),\n",
    "        ]\n",
    "    )\n",
    "\n",
    "    inference_train_dl = DataLoader(\n",
    "        dataset=train,\n",
    "        #collate_fn=partial(collate_feature_dict_with_target, targets=True),\n",
    "    collate_fn=collate_feature_dict_with_target,\n",
    "        shuffle=False,\n",
    "        num_workers=0,\n",
    "        batch_size=256,\n",
    "    )\n",
    "\n",
    "    inf_train_embeddings = pd.concat(trainer.predict(inf_module, inference_train_dl))\n",
    "\n",
    "    inf_train_embeddings.to_parquet(\"train_pyspark_v1_2_m_\"+str(j)+'_'+str(j+1)+\".parquet\", index=False, engine=\"pyarrow\", compression=\"snappy\")\n",
    "    print(inf_train_embeddings.shape)\n",
    "    del inf_train_embeddings, train"
   ]
  },
  {
   "cell_type": "code",
   "execution_count": 34,
   "id": "537e9e3f-a41c-4ecd-a261-aa338416f675",
   "metadata": {},
   "outputs": [],
   "source": [
    "tracker.stop()"
   ]
  },
  {
   "cell_type": "code",
   "execution_count": null,
   "id": "7f75b042-fa5e-4b71-997f-89d741a4dfe5",
   "metadata": {},
   "outputs": [],
   "source": [
    "time.sleep(30)"
   ]
  },
  {
   "cell_type": "code",
   "execution_count": null,
   "id": "2f7ab373-2a69-43bc-91ec-fe606cdc66dc",
   "metadata": {},
   "outputs": [],
   "source": [
    "#!sudo poweroff"
   ]
  },
  {
   "cell_type": "code",
   "execution_count": null,
   "id": "39674dff-5d3e-4be8-849f-c29402954d1b",
   "metadata": {},
   "outputs": [],
   "source": []
  },
  {
   "cell_type": "code",
   "execution_count": null,
   "id": "7e813eb2-735f-4c1a-a214-20b33de5c4e1",
   "metadata": {},
   "outputs": [],
   "source": []
  },
  {
   "cell_type": "code",
   "execution_count": null,
   "id": "90dab997-ed8f-464e-8a38-d31665eb6fcf",
   "metadata": {},
   "outputs": [],
   "source": []
  },
  {
   "cell_type": "code",
   "execution_count": null,
   "id": "02dd0628-9591-44ee-b56f-b129349a77a0",
   "metadata": {},
   "outputs": [],
   "source": []
  },
  {
   "cell_type": "code",
   "execution_count": null,
   "id": "1f204649-ff3d-4bc3-a4e2-57021479e334",
   "metadata": {},
   "outputs": [],
   "source": []
  },
  {
   "cell_type": "code",
   "execution_count": null,
   "id": "3b29b323-2d99-4f89-9ba0-b8ff9896bded",
   "metadata": {},
   "outputs": [],
   "source": []
  },
  {
   "cell_type": "code",
   "execution_count": null,
   "id": "6dfdf0b7-352a-450a-9851-61d2b0d11f9e",
   "metadata": {},
   "outputs": [],
   "source": []
  },
  {
   "cell_type": "code",
   "execution_count": null,
   "id": "e57cf44f-14ab-4bba-9984-57c4279309b3",
   "metadata": {},
   "outputs": [],
   "source": []
  },
  {
   "cell_type": "code",
   "execution_count": null,
   "id": "86b37106-4277-4865-bdf0-043151625052",
   "metadata": {},
   "outputs": [],
   "source": []
  }
 ],
 "metadata": {
  "kernelspec": {
   "display_name": "Python 3 (ipykernel)",
   "language": "python",
   "name": "python3"
  },
  "language_info": {
   "codemirror_mode": {
    "name": "ipython",
    "version": 3
   },
   "file_extension": ".py",
   "mimetype": "text/x-python",
   "name": "python",
   "nbconvert_exporter": "python",
   "pygments_lexer": "ipython3",
   "version": "3.9.5"
  }
 },
 "nbformat": 4,
 "nbformat_minor": 5
}

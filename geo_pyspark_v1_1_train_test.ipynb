{
 "cells": [
  {
   "cell_type": "code",
   "execution_count": null,
   "id": "53eae806-2c96-48b6-a8bd-db8a0aea9d65",
   "metadata": {},
   "outputs": [],
   "source": [
    "import eco2ai\n",
    "tracker = eco2ai.Tracker(project_name=\"lct_12_sber_multimodal_recsys\", \n",
    "                         experiment_description=\"geo_pyspark_v1_1_train_test\", ignore_warnings=True)\n",
    "tracker.start()"
   ]
  },
  {
   "cell_type": "code",
   "execution_count": 1,
   "id": "89fd684f-4ba4-4c37-9460-acd87825eeb1",
   "metadata": {},
   "outputs": [
    {
     "name": "stdout",
     "output_type": "stream",
     "text": [
      "cpu 8\n",
      "ram 94.3 gb\n",
      "torch 1.13.1+cu116\n",
      "Mon Jun 10 05:59:41 2024\n"
     ]
    }
   ],
   "source": [
    "import os\n",
    "os.environ[\"OMP_NUM_THREADS\"] = \"4\"#4\n",
    "\n",
    "import pandas as pd\n",
    "import numpy as np\n",
    "import torch\n",
    "from functools import partial\n",
    "import pytorch_lightning as pl\n",
    "import warnings\n",
    "import pickle\n",
    "import time\n",
    "warnings.filterwarnings(\"ignore\")\n",
    "\n",
    "from torch.utils.data import DataLoader\n",
    "\n",
    "from ptls.data_load.datasets import MemoryMapDataset\n",
    "from ptls.data_load.iterable_processing.iterable_seq_len_limit import ISeqLenLimit\n",
    "from ptls.data_load.iterable_processing.to_torch_tensor import ToTorch\n",
    "from ptls.data_load.iterable_processing.feature_filter import FeatureFilter\n",
    "from ptls.nn import TrxEncoder, RnnSeqEncoder\n",
    "from ptls.frames.coles import CoLESModule\n",
    "from ptls.data_load.iterable_processing import SeqLenFilter\n",
    "from ptls.frames.coles import ColesIterableDataset, ColesDataset\n",
    "from ptls.frames.coles.split_strategy import SampleSlices\n",
    "from ptls.frames import PtlsDataModule\n",
    "from ptls.preprocessing import PandasDataPreprocessor, PysparkDataPreprocessor\n",
    "from ptls.data_load.utils import collate_feature_dict\n",
    "from ptls.data_load.iterable_processing_dataset import IterableProcessingDataset\n",
    "from ptls.data_load.datasets import ParquetDataset, ParquetFiles\n",
    "import ptls\n",
    "\n",
    "from tqdm.auto import tqdm\n",
    "#import lightgbm as ltb\n",
    "from datetime import datetime\n",
    "\n",
    "import multiprocessing\n",
    "print('cpu', multiprocessing.cpu_count())\n",
    "\n",
    "import psutil    \n",
    "print('ram', round(psutil.virtual_memory().total/1024/1024/1024,1), 'gb')  # total physical memory in Bytes\n",
    "\n",
    "debug=False\n",
    "\n",
    "print('torch', torch.__version__)\n",
    "print('pandas', pd.__version__)\n",
    "print('numpy', np.__version__)\n",
    "print('pytorch-lightning', pl.__version__)\n",
    "print(time.ctime())"
   ]
  },
  {
   "cell_type": "code",
   "execution_count": 2,
   "id": "cdd6e128-2cff-4697-acbe-9fa35ca7b13c",
   "metadata": {},
   "outputs": [
    {
     "name": "stdout",
     "output_type": "stream",
     "text": [
      "Mon Jun 10 05:59:41 2024       \n",
      "+-----------------------------------------------------------------------------+\n",
      "| NVIDIA-SMI 510.47.03    Driver Version: 510.47.03    CUDA Version: 11.6     |\n",
      "|-------------------------------+----------------------+----------------------+\n",
      "| GPU  Name        Persistence-M| Bus-Id        Disp.A | Volatile Uncorr. ECC |\n",
      "| Fan  Temp  Perf  Pwr:Usage/Cap|         Memory-Usage | GPU-Util  Compute M. |\n",
      "|                               |                      |               MIG M. |\n",
      "|===============================+======================+======================|\n",
      "|   0  Tesla V100-PCIE...  On   | 00000000:8B:00.0 Off |                    0 |\n",
      "| N/A   30C    P0    24W / 250W |      4MiB / 32768MiB |      0%      Default |\n",
      "|                               |                      |                  N/A |\n",
      "+-------------------------------+----------------------+----------------------+\n",
      "                                                                               \n",
      "+-----------------------------------------------------------------------------+\n",
      "| Processes:                                                                  |\n",
      "|  GPU   GI   CI        PID   Type   Process name                  GPU Memory |\n",
      "|        ID   ID                                                   Usage      |\n",
      "|=============================================================================|\n",
      "|    0   N/A  N/A       601      G   /usr/lib/xorg/Xorg                  4MiB |\n",
      "+-----------------------------------------------------------------------------+\n"
     ]
    }
   ],
   "source": [
    "!nvidia-smi"
   ]
  },
  {
   "cell_type": "code",
   "execution_count": 3,
   "id": "f8f56abd-3eb4-4db9-940e-ea1953f86b91",
   "metadata": {},
   "outputs": [],
   "source": [
    "from pyspark.sql import SparkSession\n",
    "from pyspark.sql.functions import col\n",
    "from functools import reduce\n",
    "from pyspark.sql import DataFrame\n",
    "import pyspark\n",
    "import os\n",
    "print('pyspark', pyspark.__version__)\n",
    "os.environ[\"PYARROW_IGNORE_TIMEZONE\"] = \"1\" \n",
    "# без этой строчки у нас будет возникать постоянное предупреждение с просьбой установить эту переменную в значение 1, что мы заранее и делаем"
   ]
  },
  {
   "cell_type": "code",
   "execution_count": 4,
   "id": "99a7bd62-e285-4c8f-b8a1-522d5feb9b3f",
   "metadata": {},
   "outputs": [
    {
     "name": "stderr",
     "output_type": "stream",
     "text": [
      "24/06/10 05:59:45 WARN Utils: Your hostname, gpupreemnew resolves to a loopback address: 127.0.1.1; using 10.129.0.19 instead (on interface eth0)\n",
      "24/06/10 05:59:45 WARN Utils: Set SPARK_LOCAL_IP if you need to bind to another address\n",
      "Setting default log level to \"WARN\".\n",
      "To adjust logging level use sc.setLogLevel(newLevel). For SparkR, use setLogLevel(newLevel).\n",
      "24/06/10 05:59:46 WARN NativeCodeLoader: Unable to load native-hadoop library for your platform... using builtin-java classes where applicable\n",
      "24/06/10 05:59:46 WARN SparkConf: Note that spark.local.dir will be overridden by the value set by the cluster manager (via SPARK_LOCAL_DIRS in mesos/standalone/kubernetes and LOCAL_DIRS in YARN).\n"
     ]
    },
    {
     "data": {
      "text/plain": [
       "[('spark.executor.extraJavaOptions',\n",
       "  '-Djava.net.preferIPv6Addresses=false -XX:+IgnoreUnrecognizedVMOptions --add-opens=java.base/java.lang=ALL-UNNAMED --add-opens=java.base/java.lang.invoke=ALL-UNNAMED --add-opens=java.base/java.lang.reflect=ALL-UNNAMED --add-opens=java.base/java.io=ALL-UNNAMED --add-opens=java.base/java.net=ALL-UNNAMED --add-opens=java.base/java.nio=ALL-UNNAMED --add-opens=java.base/java.util=ALL-UNNAMED --add-opens=java.base/java.util.concurrent=ALL-UNNAMED --add-opens=java.base/java.util.concurrent.atomic=ALL-UNNAMED --add-opens=java.base/sun.nio.ch=ALL-UNNAMED --add-opens=java.base/sun.nio.cs=ALL-UNNAMED --add-opens=java.base/sun.security.action=ALL-UNNAMED --add-opens=java.base/sun.util.calendar=ALL-UNNAMED --add-opens=java.security.jgss/sun.security.krb5=ALL-UNNAMED -Djdk.reflect.useDirectMethodHandle=false'),\n",
       " ('spark.driver.memoryOverhead', '4g'),\n",
       " ('spark.app.submitTime', '1717999185784'),\n",
       " ('spark.app.id', 'local-1717999187662'),\n",
       " ('spark.local.dir', '../../spark_local_dir'),\n",
       " ('spark.executor.heartbeatInterval', '200000'),\n",
       " ('spark.executor.id', 'driver'),\n",
       " ('spark.driver.host', 'gpupreem1b.ru-central1.internal'),\n",
       " ('spark.driver.memory', '16g'),\n",
       " ('spark.app.startTime', '1717999185999'),\n",
       " ('spark.driver.port', '39425'),\n",
       " ('spark.executor.memory', '16g'),\n",
       " ('spark.driver.extraJavaOptions',\n",
       "  '-Djava.net.preferIPv6Addresses=false -XX:+IgnoreUnrecognizedVMOptions --add-opens=java.base/java.lang=ALL-UNNAMED --add-opens=java.base/java.lang.invoke=ALL-UNNAMED --add-opens=java.base/java.lang.reflect=ALL-UNNAMED --add-opens=java.base/java.io=ALL-UNNAMED --add-opens=java.base/java.net=ALL-UNNAMED --add-opens=java.base/java.nio=ALL-UNNAMED --add-opens=java.base/java.util=ALL-UNNAMED --add-opens=java.base/java.util.concurrent=ALL-UNNAMED --add-opens=java.base/java.util.concurrent.atomic=ALL-UNNAMED --add-opens=java.base/sun.nio.ch=ALL-UNNAMED --add-opens=java.base/sun.nio.cs=ALL-UNNAMED --add-opens=java.base/sun.security.action=ALL-UNNAMED --add-opens=java.base/sun.util.calendar=ALL-UNNAMED --add-opens=java.security.jgss/sun.security.krb5=ALL-UNNAMED -Djdk.reflect.useDirectMethodHandle=false'),\n",
       " ('spark.rdd.compress', 'True'),\n",
       " ('spark.serializer.objectStreamReset', '100'),\n",
       " ('spark.cores.max', '8'),\n",
       " ('spark.sql.shuffle.partitions', '200'),\n",
       " ('spark.master', 'local[*]'),\n",
       " ('spark.submit.pyFiles', ''),\n",
       " ('spark.submit.deployMode', 'client'),\n",
       " ('spark.app.name', 'PysparkDataPreprocessor'),\n",
       " ('spark.network.timeout', '300000'),\n",
       " ('spark.ui.showConsoleProgress', 'true'),\n",
       " ('spark.executor.memoryOverhead', '4g'),\n",
       " ('spark.driver.maxResultSize', '4g')]"
      ]
     },
     "execution_count": 4,
     "metadata": {},
     "output_type": "execute_result"
    }
   ],
   "source": [
    "spark_conf = pyspark.SparkConf()\n",
    "spark_conf.setMaster(\"local[*]\").setAppName(\"PysparkDataPreprocessor\")\n",
    "spark_conf.set(\"spark.driver.maxResultSize\", \"4g\")\n",
    "spark_conf.set(\"spark.executor.memory\", \"16g\")\n",
    "spark_conf.set(\"spark.executor.memoryOverhead\", \"4g\")\n",
    "spark_conf.set(\"spark.driver.memory\", \"16g\")\n",
    "spark_conf.set(\"spark.driver.memoryOverhead\", \"4g\")\n",
    "spark_conf.set(\"spark.cores.max\", \"8\")\n",
    "spark_conf.set(\"spark.sql.shuffle.partitions\", \"200\")\n",
    "spark_conf.set(\"spark.local.dir\", \"../../spark_local_dir\")\n",
    "spark_conf.set(\"spark.executor.heartbeatInterval\", \"200000\")\n",
    "spark_conf.set(\"spark.network.timeout\", \"300000\")\n",
    "\n",
    "\n",
    "spark = SparkSession.builder.config(conf=spark_conf).getOrCreate()\n",
    "spark.sparkContext.getConf().getAll()"
   ]
  },
  {
   "cell_type": "markdown",
   "id": "b014f4fa-e3e7-4f64-bd5a-690ed61425a6",
   "metadata": {},
   "source": [
    "## 1. Предобратока данных"
   ]
  },
  {
   "cell_type": "code",
   "execution_count": 5,
   "id": "e0fb4ed6-1dc4-428b-b1af-66bd14be6cdb",
   "metadata": {},
   "outputs": [
    {
     "name": "stdout",
     "output_type": "stream",
     "text": [
      "CPU times: user 7.43 ms, sys: 544 µs, total: 7.98 ms\n",
      "Wall time: 2.91 s\n"
     ]
    }
   ],
   "source": [
    "%%time\n",
    "geo_train = spark.read.parquet(\"Hackathon/geo_train.parquet\")\n",
    "geo_test = spark.read.parquet(\"Hackathon/geo_test.parquet\")"
   ]
  },
  {
   "cell_type": "code",
   "execution_count": 6,
   "id": "37e6087b-7b32-4d8d-9618-d8fc68b3942b",
   "metadata": {},
   "outputs": [
    {
     "name": "stdout",
     "output_type": "stream",
     "text": [
      "CPU times: user 2.67 ms, sys: 68 µs, total: 2.74 ms\n",
      "Wall time: 144 ms\n"
     ]
    }
   ],
   "source": [
    "print(geo_train.count(), geo_test.count())"
   ]
  },
  {
   "cell_type": "code",
   "execution_count": 7,
   "id": "01ed663f-3f54-4409-bcde-4ee9ea420828",
   "metadata": {},
   "outputs": [
    {
     "name": "stdout",
     "output_type": "stream",
     "text": [
      "CPU times: user 2 µs, sys: 0 ns, total: 2 µs\n",
      "Wall time: 5.96 µs\n"
     ]
    }
   ],
   "source": [
    "%%time\n",
    "if debug:\n",
    "    train_clients = [i['client_id'] for i in geo_train.select('client_id').distinct().collect()]\n",
    "    print(len(train_clients))\n",
    "    train_clients = pd.Series(train_clients).sample(random_state=37, frac=0.1).values.tolist()\n",
    "    print(len(train_clients))\n",
    "    geo_train = geo_train.filter(col('client_id').isin(train_clients))\n",
    "    #print(transactions_train['client_id'].n_unique())"
   ]
  },
  {
   "cell_type": "code",
   "execution_count": 8,
   "id": "e5eedad7-932e-484f-96d1-2579704c6611",
   "metadata": {},
   "outputs": [
    {
     "name": "stdout",
     "output_type": "stream",
     "text": [
      "CPU times: user 3 µs, sys: 1 µs, total: 4 µs\n",
      "Wall time: 6.91 µs\n"
     ]
    }
   ],
   "source": [
    "%%time\n",
    "if debug:\n",
    "    test_clients = [i['client_id'] for i in geo_test.select('client_id').distinct().collect()]\n",
    "    print(len(test_clients))\n",
    "    test_clients = pd.Series(test_clients).sample(random_state=37, frac=0.1).values.tolist()\n",
    "    print(len(test_clients))\n",
    "    geo_test = geo_test.filter(col('client_id').isin(test_clients))\n",
    "    #print(transactions_test['client_id'].n_unique())"
   ]
  },
  {
   "cell_type": "code",
   "execution_count": 9,
   "id": "410e0d5f-7ad6-4efd-9482-7180c463baf3",
   "metadata": {},
   "outputs": [
    {
     "name": "stderr",
     "output_type": "stream",
     "text": [
      "                                                                                \r"
     ]
    },
    {
     "name": "stdout",
     "output_type": "stream",
     "text": [
      "528278383 139047888\n"
     ]
    }
   ],
   "source": [
    "print(geo_train.count(), geo_test.count())\n",
    "#transactions_train.show(5)"
   ]
  },
  {
   "cell_type": "code",
   "execution_count": 10,
   "id": "735fee3a-c754-4dbf-8f6d-e583b8c6220c",
   "metadata": {},
   "outputs": [
    {
     "name": "stdout",
     "output_type": "stream",
     "text": [
      "667326271\n"
     ]
    }
   ],
   "source": [
    "# объединяем train и test, чтобы историческая информация о поведении тестовых пользователей тоже использовалась для обучения\n",
    "geo_train = reduce(DataFrame.unionAll, [geo_train, geo_test])\n",
    "print(geo_train.count())"
   ]
  },
  {
   "cell_type": "code",
   "execution_count": 11,
   "id": "74aed3e1-11db-4e58-86df-92c155287722",
   "metadata": {},
   "outputs": [
    {
     "name": "stderr",
     "output_type": "stream",
     "text": [
      "24/06/09 15:49:31 WARN WindowExec: No Partition Defined for Window operation! Moving all data to a single partition, this can cause serious performance degradation.\n",
      "24/06/09 15:49:31 WARN WindowExec: No Partition Defined for Window operation! Moving all data to a single partition, this can cause serious performance degradation.\n",
      "24/06/09 15:49:31 WARN WindowExec: No Partition Defined for Window operation! Moving all data to a single partition, this can cause serious performance degradation.\n",
      "24/06/09 15:49:47 WARN WindowExec: No Partition Defined for Window operation! Moving all data to a single partition, this can cause serious performance degradation.\n",
      "24/06/09 15:49:47 WARN WindowExec: No Partition Defined for Window operation! Moving all data to a single partition, this can cause serious performance degradation.\n",
      "24/06/09 15:49:48 WARN WindowExec: No Partition Defined for Window operation! Moving all data to a single partition, this can cause serious performance degradation.\n",
      "24/06/09 15:49:48 WARN WindowExec: No Partition Defined for Window operation! Moving all data to a single partition, this can cause serious performance degradation.\n",
      "24/06/09 15:50:06 WARN WindowExec: No Partition Defined for Window operation! Moving all data to a single partition, this can cause serious performance degradation.\n",
      "24/06/09 15:50:06 WARN WindowExec: No Partition Defined for Window operation! Moving all data to a single partition, this can cause serious performance degradation.\n",
      "24/06/09 15:50:06 WARN WindowExec: No Partition Defined for Window operation! Moving all data to a single partition, this can cause serious performance degradation.\n",
      "24/06/09 15:50:22 WARN WindowExec: No Partition Defined for Window operation! Moving all data to a single partition, this can cause serious performance degradation.\n",
      "24/06/09 15:50:22 WARN WindowExec: No Partition Defined for Window operation! Moving all data to a single partition, this can cause serious performance degradation.\n",
      "24/06/09 15:50:22 WARN WindowExec: No Partition Defined for Window operation! Moving all data to a single partition, this can cause serious performance degradation.\n",
      "24/06/09 15:50:22 WARN WindowExec: No Partition Defined for Window operation! Moving all data to a single partition, this can cause serious performance degradation.\n",
      "24/06/09 15:50:42 WARN WindowExec: No Partition Defined for Window operation! Moving all data to a single partition, this can cause serious performance degradation.\n",
      "24/06/09 15:50:42 WARN WindowExec: No Partition Defined for Window operation! Moving all data to a single partition, this can cause serious performance degradation.\n",
      "24/06/09 15:50:42 WARN WindowExec: No Partition Defined for Window operation! Moving all data to a single partition, this can cause serious performance degradation.\n",
      "24/06/09 15:51:00 WARN WindowExec: No Partition Defined for Window operation! Moving all data to a single partition, this can cause serious performance degradation.\n",
      "24/06/09 15:51:00 WARN WindowExec: No Partition Defined for Window operation! Moving all data to a single partition, this can cause serious performance degradation.\n",
      "24/06/09 15:51:01 WARN WindowExec: No Partition Defined for Window operation! Moving all data to a single partition, this can cause serious performance degradation.\n",
      "24/06/09 15:51:01 WARN WindowExec: No Partition Defined for Window operation! Moving all data to a single partition, this can cause serious performance degradation.\n",
      "                                                                                \r"
     ]
    },
    {
     "name": "stdout",
     "output_type": "stream",
     "text": [
      "CPU times: user 23.2 s, sys: 9.5 s, total: 32.7 s\n",
      "Wall time: 2min 43s\n"
     ]
    }
   ],
   "source": [
    "%%time\n",
    "\n",
    "geo_preprocessor = PysparkDataPreprocessor(\n",
    "    col_id=\"client_id\",\n",
    "    col_event_time=\"event_time\",\n",
    "    event_time_transformation=\"dt_to_timestamp\",\n",
    "    cols_category=[\"geohash_4\",\n",
    "                   \"geohash_5\",\n",
    "                   \"geohash_6\"],\n",
    "    #cols_identity=\"amount\",\n",
    "    #return_records=False,\n",
    ")\n",
    "\n",
    "processed_geo_train = geo_preprocessor.fit_transform(geo_train)\n",
    "processed_geo_test = geo_preprocessor.transform(geo_test)"
   ]
  },
  {
   "cell_type": "code",
   "execution_count": 12,
   "id": "3bcc4b1e-bb79-42d7-a8a3-d6f2d96cca26",
   "metadata": {},
   "outputs": [
    {
     "data": {
      "text/plain": [
       "[('client_id', 'string'),\n",
       " ('event_time', 'array<bigint>'),\n",
       " ('geohash_4', 'array<int>'),\n",
       " ('geohash_5', 'array<int>'),\n",
       " ('geohash_6', 'array<int>')]"
      ]
     },
     "execution_count": 12,
     "metadata": {},
     "output_type": "execute_result"
    }
   ],
   "source": [
    "processed_geo_train.dtypes"
   ]
  },
  {
   "cell_type": "code",
   "execution_count": 13,
   "id": "934ec70d-dfdb-4a90-a8f0-905956d6ebab",
   "metadata": {},
   "outputs": [],
   "source": [
    "with open('geo_preprocessor_pyspark_v1.pickle', 'wb') as f:\n",
    "    pickle.dump(geo_preprocessor, f)"
   ]
  },
  {
   "cell_type": "code",
   "execution_count": 14,
   "id": "dbcce51b-1081-4cea-a9b6-e0b50d5cdb1f",
   "metadata": {},
   "outputs": [
    {
     "name": "stderr",
     "output_type": "stream",
     "text": [
      "24/06/09 17:14:29 WARN DAGScheduler: Broadcasting large task binary with size 1095.6 KiB\n",
      "24/06/09 17:33:23 WARN DAGScheduler: Broadcasting large task binary with size 1088.6 KiB\n",
      "[Stage 34:====================================================>   (28 + 2) / 30]\r"
     ]
    },
    {
     "name": "stdout",
     "output_type": "stream",
     "text": [
      "CPU times: user 1.36 s, sys: 624 ms, total: 1.98 s\n",
      "Wall time: 1h 41min 27s\n"
     ]
    },
    {
     "name": "stderr",
     "output_type": "stream",
     "text": [
      "                                                                                \r"
     ]
    }
   ],
   "source": [
    "%%time\n",
    "processed_geo_train.write.parquet('processed_geo_train_pyspark_v1.parquet', mode='overwrite')\n",
    "processed_geo_test.write.parquet('processed_geo_test_pyspark_v1.parquet', mode='overwrite')"
   ]
  },
  {
   "cell_type": "code",
   "execution_count": 15,
   "id": "1231eb90-64dd-450f-a95e-373fd48312a9",
   "metadata": {},
   "outputs": [
    {
     "name": "stderr",
     "output_type": "stream",
     "text": [
      "[Stage 41:================================>                        (9 + 7) / 16]\r"
     ]
    },
    {
     "name": "stdout",
     "output_type": "stream",
     "text": [
      "789051 166747\n"
     ]
    },
    {
     "name": "stderr",
     "output_type": "stream",
     "text": [
      "24/06/09 17:40:15 WARN JavaUtils: Attempt to delete using native Unix OS command failed for path = /home/jovyan/spark_local_dir/blockmgr-d3100dd9-9f8a-4e71-bc53-a7d3ffd7ddf2. Falling back to Java IO way\n",
      "java.io.IOException: Failed to delete: /home/jovyan/spark_local_dir/blockmgr-d3100dd9-9f8a-4e71-bc53-a7d3ffd7ddf2\n",
      "\tat org.apache.spark.network.util.JavaUtils.deleteRecursivelyUsingUnixNative(JavaUtils.java:173)\n",
      "\tat org.apache.spark.network.util.JavaUtils.deleteRecursively(JavaUtils.java:109)\n",
      "\tat org.apache.spark.network.util.JavaUtils.deleteRecursively(JavaUtils.java:90)\n",
      "\tat org.apache.spark.util.SparkFileUtils.deleteRecursively(SparkFileUtils.scala:121)\n",
      "\tat org.apache.spark.util.SparkFileUtils.deleteRecursively$(SparkFileUtils.scala:120)\n",
      "\tat org.apache.spark.util.Utils$.deleteRecursively(Utils.scala:1126)\n",
      "\tat org.apache.spark.storage.DiskBlockManager.$anonfun$doStop$1(DiskBlockManager.scala:368)\n",
      "\tat org.apache.spark.storage.DiskBlockManager.$anonfun$doStop$1$adapted(DiskBlockManager.scala:364)\n",
      "\tat scala.collection.IndexedSeqOptimized.foreach(IndexedSeqOptimized.scala:36)\n",
      "\tat scala.collection.IndexedSeqOptimized.foreach$(IndexedSeqOptimized.scala:33)\n",
      "\tat scala.collection.mutable.ArrayOps$ofRef.foreach(ArrayOps.scala:198)\n",
      "\tat org.apache.spark.storage.DiskBlockManager.doStop(DiskBlockManager.scala:364)\n",
      "\tat org.apache.spark.storage.DiskBlockManager.stop(DiskBlockManager.scala:359)\n",
      "\tat org.apache.spark.storage.BlockManager.stop(BlockManager.scala:2124)\n",
      "\tat org.apache.spark.SparkEnv.stop(SparkEnv.scala:95)\n",
      "\tat org.apache.spark.SparkContext.$anonfun$stop$25(SparkContext.scala:2310)\n",
      "\tat org.apache.spark.util.Utils$.tryLogNonFatalError(Utils.scala:1375)\n",
      "\tat org.apache.spark.SparkContext.stop(SparkContext.scala:2310)\n",
      "\tat org.apache.spark.SparkContext.stop(SparkContext.scala:2216)\n",
      "\tat org.apache.spark.SparkContext.$anonfun$new$34(SparkContext.scala:686)\n",
      "\tat org.apache.spark.util.SparkShutdownHook.run(ShutdownHookManager.scala:214)\n",
      "\tat org.apache.spark.util.SparkShutdownHookManager.$anonfun$runAll$2(ShutdownHookManager.scala:188)\n",
      "\tat scala.runtime.java8.JFunction0$mcV$sp.apply(JFunction0$mcV$sp.java:23)\n",
      "\tat org.apache.spark.util.Utils$.logUncaughtExceptions(Utils.scala:1928)\n",
      "\tat org.apache.spark.util.SparkShutdownHookManager.$anonfun$runAll$1(ShutdownHookManager.scala:188)\n",
      "\tat scala.runtime.java8.JFunction0$mcV$sp.apply(JFunction0$mcV$sp.java:23)\n",
      "\tat scala.util.Try$.apply(Try.scala:213)\n",
      "\tat org.apache.spark.util.SparkShutdownHookManager.runAll(ShutdownHookManager.scala:188)\n",
      "\tat org.apache.spark.util.SparkShutdownHookManager$$anon$2.run(ShutdownHookManager.scala:178)\n",
      "\tat java.base/java.util.concurrent.Executors$RunnableAdapter.call(Executors.java:515)\n",
      "\tat java.base/java.util.concurrent.FutureTask.run(FutureTask.java:264)\n",
      "\tat java.base/java.util.concurrent.ThreadPoolExecutor.runWorker(ThreadPoolExecutor.java:1128)\n",
      "\tat java.base/java.util.concurrent.ThreadPoolExecutor$Worker.run(ThreadPoolExecutor.java:628)\n",
      "\tat java.base/java.lang.Thread.run(Thread.java:829)\n"
     ]
    }
   ],
   "source": [
    "print(processed_geo_train.count(), processed_geo_test.count())\n",
    "#processed_train.show(5)"
   ]
  },
  {
   "cell_type": "code",
   "execution_count": null,
   "id": "3ca19e68-e6c7-47cd-9888-d74e156bd8f4",
   "metadata": {},
   "outputs": [],
   "source": [
    "del processed_geo_train, processed_geo_test"
   ]
  },
  {
   "cell_type": "markdown",
   "id": "365c011d-4711-466d-9b5c-47435bc75875",
   "metadata": {},
   "source": [
    "## 2. Тренировка модели"
   ]
  },
  {
   "cell_type": "code",
   "execution_count": 5,
   "id": "a6d13182-0740-4e93-b615-d4876f055bea",
   "metadata": {},
   "outputs": [],
   "source": [
    "with open('geo_preprocessor_pyspark_v1.pickle', 'rb') as f:\n",
    "    geo_preprocessor = pickle.load(f)"
   ]
  },
  {
   "cell_type": "markdown",
   "id": "c1d26efc-717f-4884-bcd5-5a9eddd2821b",
   "metadata": {},
   "source": [
    "**Обработка датасета:**\n",
    "\n",
    "- Транзакции, у которых размер < min_seq_len выкидываются\n",
    "- Транзакции, у которых длина > max_seq_len, обрезаются и конвертируются в torch.tensor\n",
    "- Не нужные для CoLES фичи удаляются"
   ]
  },
  {
   "cell_type": "code",
   "execution_count": 9,
   "id": "d5d2ed90-ef9f-4dfd-83dc-c3b83ffb66ee",
   "metadata": {},
   "outputs": [
    {
     "name": "stdout",
     "output_type": "stream",
     "text": [
      "CPU times: user 1min 41s, sys: 29 s, total: 2min 10s\n",
      "Wall time: 1min 38s\n"
     ]
    }
   ],
   "source": [
    "%%time\n",
    "train = MemoryMapDataset(\n",
    "    data=ParquetDataset(ParquetFiles('processed_geo_train_pyspark_v1.parquet')),#processed_train.toPandas().to_dict(\"records\"),\n",
    "    i_filters=[\n",
    "        FeatureFilter(drop_feature_names=['client_id', 'target_1', 'target_2', 'target_3', 'target_4']),\n",
    "        SeqLenFilter(min_seq_len=32),\n",
    "        ISeqLenLimit(max_seq_len=4096),\n",
    "        ToTorch()\n",
    "    ]\n",
    ")"
   ]
  },
  {
   "cell_type": "code",
   "execution_count": 10,
   "id": "0cea9662-1c9b-4b13-940e-038c1c28694a",
   "metadata": {},
   "outputs": [
    {
     "name": "stdout",
     "output_type": "stream",
     "text": [
      "CPU times: user 22.6 s, sys: 7.23 s, total: 29.9 s\n",
      "Wall time: 21.5 s\n"
     ]
    }
   ],
   "source": [
    "%%time\n",
    "test = MemoryMapDataset(\n",
    "    data=ParquetDataset(ParquetFiles('processed_geo_test_pyspark_v1.parquet')),#processed_test.toPandas().to_dict(\"records\"),\n",
    "    i_filters=[\n",
    "        FeatureFilter(drop_feature_names=['client_id', 'target_1', 'target_2', 'target_3', 'target_4']),\n",
    "        SeqLenFilter(min_seq_len=32),\n",
    "        ISeqLenLimit(max_seq_len=4096),\n",
    "        ToTorch()\n",
    "    ]\n",
    ")"
   ]
  },
  {
   "cell_type": "code",
   "execution_count": 11,
   "id": "0e6b8e7e-9d14-4dcf-9dc3-542a8c4dc90e",
   "metadata": {},
   "outputs": [
    {
     "name": "stdout",
     "output_type": "stream",
     "text": [
      "CPU times: user 29 µs, sys: 8 µs, total: 37 µs\n",
      "Wall time: 41.7 µs\n"
     ]
    }
   ],
   "source": [
    "%%time\n",
    "train_ds = ColesDataset(\n",
    "    data=train,\n",
    "    splitter=SampleSlices(\n",
    "        split_count=5,\n",
    "        cnt_min=32,\n",
    "        cnt_max=180\n",
    "    )\n",
    ")\n",
    "\n",
    "valid_ds = ColesDataset(\n",
    "    data=test,\n",
    "    splitter=SampleSlices(\n",
    "        split_count=5,\n",
    "        cnt_min=32,\n",
    "        cnt_max=180\n",
    "    )\n",
    ")"
   ]
  },
  {
   "cell_type": "code",
   "execution_count": 12,
   "id": "4ea4f384-49ae-414f-9795-6f56efd6363e",
   "metadata": {},
   "outputs": [
    {
     "name": "stdout",
     "output_type": "stream",
     "text": [
      "CPU times: user 332 µs, sys: 97 µs, total: 429 µs\n",
      "Wall time: 436 µs\n"
     ]
    }
   ],
   "source": [
    "%%time\n",
    "train_dl = PtlsDataModule(\n",
    "    train_data=train_ds,\n",
    "    train_num_workers=16,\n",
    "    train_batch_size=256,\n",
    "    valid_data=valid_ds,\n",
    "    valid_num_workers=16,\n",
    "    valid_batch_size=256\n",
    ")"
   ]
  },
  {
   "cell_type": "markdown",
   "id": "e71f18f4-a434-4bfb-b4ca-46d2e06ba025",
   "metadata": {},
   "source": [
    "- количественных фич (numeric_values) в этом датасете нет, так что используем только категориальные (embedidngs - nn.Embedidngs)"
   ]
  },
  {
   "cell_type": "code",
   "execution_count": 6,
   "id": "f37778b4-47bb-4b5e-b53e-f7ed6096a1f2",
   "metadata": {},
   "outputs": [
    {
     "name": "stdout",
     "output_type": "stream",
     "text": [
      "CPU times: user 18 µs, sys: 5 µs, total: 23 µs\n",
      "Wall time: 26.2 µs\n"
     ]
    }
   ],
   "source": [
    "%%time\n",
    "trx_encoder_params = dict(\n",
    "    embeddings_noise=0.003,\n",
    "    #numeric_values={'amount': 'log'},\n",
    "    embeddings={\n",
    "        \"geohash_4\": {'in': geo_preprocessor.get_category_dictionary_sizes()[\"geohash_4\"], \"out\": 32},\n",
    "        \"geohash_5\": {'in': geo_preprocessor.get_category_dictionary_sizes()[\"geohash_5\"], \"out\": 32},\n",
    "        'geohash_6': {'in': geo_preprocessor.get_category_dictionary_sizes()[\"geohash_6\"], 'out': 32},\n",
    "      }\n",
    ")"
   ]
  },
  {
   "cell_type": "markdown",
   "id": "260f9fbf-8ea4-483e-81eb-a1c1cbcd6e43",
   "metadata": {},
   "source": [
    "- **TrxEncoder** - обрабатывает каждую геолокацию (строит для неё эмбеддиг)\n",
    "- **SeqEncoder** - обрабатывает последовательность"
   ]
  },
  {
   "cell_type": "code",
   "execution_count": 7,
   "id": "e8927804-f4ed-4f0a-8c38-4c07299a5e01",
   "metadata": {},
   "outputs": [
    {
     "name": "stdout",
     "output_type": "stream",
     "text": [
      "CPU times: user 32.6 ms, sys: 19.3 ms, total: 51.9 ms\n",
      "Wall time: 109 ms\n"
     ]
    }
   ],
   "source": [
    "%%time\n",
    "seq_encoder = RnnSeqEncoder(\n",
    "    trx_encoder=TrxEncoder(**trx_encoder_params),\n",
    "    hidden_size=256,\n",
    "    type='gru',\n",
    ")"
   ]
  },
  {
   "cell_type": "code",
   "execution_count": 8,
   "id": "87833c3d-4514-4c50-9fbd-66bc7b63fb41",
   "metadata": {},
   "outputs": [
    {
     "name": "stdout",
     "output_type": "stream",
     "text": [
      "CPU times: user 30.2 ms, sys: 11 ms, total: 41.2 ms\n",
      "Wall time: 96.6 ms\n"
     ]
    }
   ],
   "source": [
    "%%time\n",
    "model = CoLESModule(\n",
    "    seq_encoder=seq_encoder,\n",
    "    optimizer_partial=partial(torch.optim.Adam, lr=0.001),\n",
    "    lr_scheduler_partial=partial(torch.optim.lr_scheduler.StepLR, step_size=3, gamma=0.9025)\n",
    ")"
   ]
  },
  {
   "cell_type": "code",
   "execution_count": 13,
   "id": "bdd9b633-2dca-4744-8b3d-6d3925226838",
   "metadata": {},
   "outputs": [
    {
     "name": "stderr",
     "output_type": "stream",
     "text": [
      "GPU available: True (cuda), used: True\n",
      "TPU available: False, using: 0 TPU cores\n",
      "IPU available: False, using: 0 IPUs\n",
      "HPU available: False, using: 0 HPUs\n"
     ]
    },
    {
     "name": "stdout",
     "output_type": "stream",
     "text": [
      "CPU times: user 311 ms, sys: 53.8 ms, total: 364 ms\n",
      "Wall time: 349 ms\n"
     ]
    }
   ],
   "source": [
    "%%time\n",
    "trainer = pl.Trainer(\n",
    "    max_epochs=25,\n",
    "    limit_val_batches=5000,\n",
    "    devices=[0],\n",
    "    enable_progress_bar=True,\n",
    "    gradient_clip_val=0.5,\n",
    "    logger=pl.loggers.TensorBoardLogger(\n",
    "        save_dir='./logdir',\n",
    "        name='geo_pyspark_v1_1_result'\n",
    "    ),\n",
    "    callbacks=[\n",
    "        pl.callbacks.LearningRateMonitor(logging_interval='step'),\n",
    "        pl.callbacks.ModelCheckpoint(every_n_train_steps=5000, save_top_k=-1),\n",
    "    ]\n",
    ")"
   ]
  },
  {
   "cell_type": "code",
   "execution_count": 14,
   "id": "03161378-9342-4bc4-b3da-83c1673f675f",
   "metadata": {},
   "outputs": [
    {
     "name": "stderr",
     "output_type": "stream",
     "text": [
      "Missing logger folder: ./logdir/geo_pyspark_v1_1_result\n",
      "LOCAL_RANK: 0 - CUDA_VISIBLE_DEVICES: [0]\n",
      "\n",
      "  | Name               | Type            | Params\n",
      "-------------------------------------------------------\n",
      "0 | _loss              | ContrastiveLoss | 0     \n",
      "1 | _seq_encoder       | RnnSeqEncoder   | 1.2 M \n",
      "2 | _validation_metric | BatchRecallTopK | 0     \n",
      "3 | _head              | Head            | 0     \n",
      "-------------------------------------------------------\n",
      "1.2 M     Trainable params\n",
      "0         Non-trainable params\n",
      "1.2 M     Total params\n",
      "4.929     Total estimated model params size (MB)\n"
     ]
    },
    {
     "data": {
      "application/vnd.jupyter.widget-view+json": {
       "model_id": "",
       "version_major": 2,
       "version_minor": 0
      },
      "text/plain": [
       "Sanity Checking: |                                        | 0/? [00:00<?, ?it/s]"
      ]
     },
     "metadata": {},
     "output_type": "display_data"
    },
    {
     "data": {
      "application/vnd.jupyter.widget-view+json": {
       "model_id": "c69b0dc348cf473abdf45939366fabbb",
       "version_major": 2,
       "version_minor": 0
      },
      "text/plain": [
       "Training: |                                               | 0/? [00:00<?, ?it/s]"
      ]
     },
     "metadata": {},
     "output_type": "display_data"
    },
    {
     "data": {
      "application/vnd.jupyter.widget-view+json": {
       "model_id": "",
       "version_major": 2,
       "version_minor": 0
      },
      "text/plain": [
       "Validation: |                                             | 0/? [00:00<?, ?it/s]"
      ]
     },
     "metadata": {},
     "output_type": "display_data"
    },
    {
     "data": {
      "application/vnd.jupyter.widget-view+json": {
       "model_id": "",
       "version_major": 2,
       "version_minor": 0
      },
      "text/plain": [
       "Validation: |                                             | 0/? [00:00<?, ?it/s]"
      ]
     },
     "metadata": {},
     "output_type": "display_data"
    },
    {
     "data": {
      "application/vnd.jupyter.widget-view+json": {
       "model_id": "",
       "version_major": 2,
       "version_minor": 0
      },
      "text/plain": [
       "Validation: |                                             | 0/? [00:00<?, ?it/s]"
      ]
     },
     "metadata": {},
     "output_type": "display_data"
    },
    {
     "data": {
      "application/vnd.jupyter.widget-view+json": {
       "model_id": "",
       "version_major": 2,
       "version_minor": 0
      },
      "text/plain": [
       "Validation: |                                             | 0/? [00:00<?, ?it/s]"
      ]
     },
     "metadata": {},
     "output_type": "display_data"
    },
    {
     "data": {
      "application/vnd.jupyter.widget-view+json": {
       "model_id": "",
       "version_major": 2,
       "version_minor": 0
      },
      "text/plain": [
       "Validation: |                                             | 0/? [00:00<?, ?it/s]"
      ]
     },
     "metadata": {},
     "output_type": "display_data"
    },
    {
     "data": {
      "application/vnd.jupyter.widget-view+json": {
       "model_id": "",
       "version_major": 2,
       "version_minor": 0
      },
      "text/plain": [
       "Validation: |                                             | 0/? [00:00<?, ?it/s]"
      ]
     },
     "metadata": {},
     "output_type": "display_data"
    },
    {
     "data": {
      "application/vnd.jupyter.widget-view+json": {
       "model_id": "",
       "version_major": 2,
       "version_minor": 0
      },
      "text/plain": [
       "Validation: |                                             | 0/? [00:00<?, ?it/s]"
      ]
     },
     "metadata": {},
     "output_type": "display_data"
    },
    {
     "data": {
      "application/vnd.jupyter.widget-view+json": {
       "model_id": "",
       "version_major": 2,
       "version_minor": 0
      },
      "text/plain": [
       "Validation: |                                             | 0/? [00:00<?, ?it/s]"
      ]
     },
     "metadata": {},
     "output_type": "display_data"
    },
    {
     "data": {
      "application/vnd.jupyter.widget-view+json": {
       "model_id": "",
       "version_major": 2,
       "version_minor": 0
      },
      "text/plain": [
       "Validation: |                                             | 0/? [00:00<?, ?it/s]"
      ]
     },
     "metadata": {},
     "output_type": "display_data"
    },
    {
     "data": {
      "application/vnd.jupyter.widget-view+json": {
       "model_id": "",
       "version_major": 2,
       "version_minor": 0
      },
      "text/plain": [
       "Validation: |                                             | 0/? [00:00<?, ?it/s]"
      ]
     },
     "metadata": {},
     "output_type": "display_data"
    },
    {
     "data": {
      "application/vnd.jupyter.widget-view+json": {
       "model_id": "",
       "version_major": 2,
       "version_minor": 0
      },
      "text/plain": [
       "Validation: |                                             | 0/? [00:00<?, ?it/s]"
      ]
     },
     "metadata": {},
     "output_type": "display_data"
    },
    {
     "data": {
      "application/vnd.jupyter.widget-view+json": {
       "model_id": "",
       "version_major": 2,
       "version_minor": 0
      },
      "text/plain": [
       "Validation: |                                             | 0/? [00:00<?, ?it/s]"
      ]
     },
     "metadata": {},
     "output_type": "display_data"
    },
    {
     "data": {
      "application/vnd.jupyter.widget-view+json": {
       "model_id": "",
       "version_major": 2,
       "version_minor": 0
      },
      "text/plain": [
       "Validation: |                                             | 0/? [00:00<?, ?it/s]"
      ]
     },
     "metadata": {},
     "output_type": "display_data"
    },
    {
     "data": {
      "application/vnd.jupyter.widget-view+json": {
       "model_id": "",
       "version_major": 2,
       "version_minor": 0
      },
      "text/plain": [
       "Validation: |                                             | 0/? [00:00<?, ?it/s]"
      ]
     },
     "metadata": {},
     "output_type": "display_data"
    },
    {
     "data": {
      "application/vnd.jupyter.widget-view+json": {
       "model_id": "",
       "version_major": 2,
       "version_minor": 0
      },
      "text/plain": [
       "Validation: |                                             | 0/? [00:00<?, ?it/s]"
      ]
     },
     "metadata": {},
     "output_type": "display_data"
    },
    {
     "data": {
      "application/vnd.jupyter.widget-view+json": {
       "model_id": "",
       "version_major": 2,
       "version_minor": 0
      },
      "text/plain": [
       "Validation: |                                             | 0/? [00:00<?, ?it/s]"
      ]
     },
     "metadata": {},
     "output_type": "display_data"
    },
    {
     "data": {
      "application/vnd.jupyter.widget-view+json": {
       "model_id": "",
       "version_major": 2,
       "version_minor": 0
      },
      "text/plain": [
       "Validation: |                                             | 0/? [00:00<?, ?it/s]"
      ]
     },
     "metadata": {},
     "output_type": "display_data"
    },
    {
     "data": {
      "application/vnd.jupyter.widget-view+json": {
       "model_id": "",
       "version_major": 2,
       "version_minor": 0
      },
      "text/plain": [
       "Validation: |                                             | 0/? [00:00<?, ?it/s]"
      ]
     },
     "metadata": {},
     "output_type": "display_data"
    },
    {
     "data": {
      "application/vnd.jupyter.widget-view+json": {
       "model_id": "",
       "version_major": 2,
       "version_minor": 0
      },
      "text/plain": [
       "Validation: |                                             | 0/? [00:00<?, ?it/s]"
      ]
     },
     "metadata": {},
     "output_type": "display_data"
    },
    {
     "data": {
      "application/vnd.jupyter.widget-view+json": {
       "model_id": "",
       "version_major": 2,
       "version_minor": 0
      },
      "text/plain": [
       "Validation: |                                             | 0/? [00:00<?, ?it/s]"
      ]
     },
     "metadata": {},
     "output_type": "display_data"
    },
    {
     "data": {
      "application/vnd.jupyter.widget-view+json": {
       "model_id": "",
       "version_major": 2,
       "version_minor": 0
      },
      "text/plain": [
       "Validation: |                                             | 0/? [00:00<?, ?it/s]"
      ]
     },
     "metadata": {},
     "output_type": "display_data"
    },
    {
     "data": {
      "application/vnd.jupyter.widget-view+json": {
       "model_id": "",
       "version_major": 2,
       "version_minor": 0
      },
      "text/plain": [
       "Validation: |                                             | 0/? [00:00<?, ?it/s]"
      ]
     },
     "metadata": {},
     "output_type": "display_data"
    },
    {
     "data": {
      "application/vnd.jupyter.widget-view+json": {
       "model_id": "",
       "version_major": 2,
       "version_minor": 0
      },
      "text/plain": [
       "Validation: |                                             | 0/? [00:00<?, ?it/s]"
      ]
     },
     "metadata": {},
     "output_type": "display_data"
    },
    {
     "data": {
      "application/vnd.jupyter.widget-view+json": {
       "model_id": "",
       "version_major": 2,
       "version_minor": 0
      },
      "text/plain": [
       "Validation: |                                             | 0/? [00:00<?, ?it/s]"
      ]
     },
     "metadata": {},
     "output_type": "display_data"
    },
    {
     "data": {
      "application/vnd.jupyter.widget-view+json": {
       "model_id": "",
       "version_major": 2,
       "version_minor": 0
      },
      "text/plain": [
       "Validation: |                                             | 0/? [00:00<?, ?it/s]"
      ]
     },
     "metadata": {},
     "output_type": "display_data"
    },
    {
     "name": "stderr",
     "output_type": "stream",
     "text": [
      "`Trainer.fit` stopped: `max_epochs=25` reached.\n"
     ]
    },
    {
     "name": "stdout",
     "output_type": "stream",
     "text": [
      "CPU times: user 2h 21min 47s, sys: 8min 45s, total: 2h 30min 33s\n",
      "Wall time: 2h 32min 10s\n"
     ]
    }
   ],
   "source": [
    "%%time\n",
    "trainer.fit(model, train_dl)"
   ]
  },
  {
   "cell_type": "code",
   "execution_count": 15,
   "id": "dc3cb1cb-80a2-4843-b688-575cbce335ba",
   "metadata": {},
   "outputs": [],
   "source": [
    "torch.save(model.state_dict(), './model_geo_pyspark_v1_1.pt')"
   ]
  },
  {
   "cell_type": "markdown",
   "id": "efcff9bc-41a4-4c1b-86d6-c02ab76460dc",
   "metadata": {},
   "source": [
    "## 3. Inference"
   ]
  },
  {
   "cell_type": "markdown",
   "id": "7113371f-6986-4bf2-9801-141cea689c83",
   "metadata": {},
   "source": [
    "Для каждого пользователя известно 12 таргетов, инференс происходит следующим образом:\n",
    "\n",
    "Чтобы не происходило лика нужно для каждого клиента делать срез до текущего месяца:\n",
    "\n",
    "Берутся все геолокации за первый месяц, им соответствует 1-ый таргет из 12,\n",
    "потом берутся геолокации за первый и второй месяц пользователя и им соотвествует 2-ой таргет и так далее.\n",
    "То есть для данного пользователя, имеющего геолокации за год, мы можем получить 12 эмбеддингов, каждому из которых соответствует 1 таргет"
   ]
  },
  {
   "cell_type": "code",
   "execution_count": 16,
   "id": "184064fb-b1cc-4362-85d0-1382a96e6465",
   "metadata": {},
   "outputs": [],
   "source": [
    "class GetSplit(IterableProcessingDataset):\n",
    "    def __init__(\n",
    "        self,\n",
    "        start_month,\n",
    "        end_month,\n",
    "        year=2022,\n",
    "        col_id='client_id',\n",
    "        col_time='event_time'\n",
    "    ):\n",
    "        super().__init__()\n",
    "        self.start_month = start_month\n",
    "        self.end_month = end_month\n",
    "        self._year = year\n",
    "        self._col_id = col_id\n",
    "        self._col_time = col_time\n",
    "\n",
    "    def __iter__(self):\n",
    "        for rec in self._src:\n",
    "            for month in range(self.start_month, self.end_month+1):\n",
    "                features = rec[0] if type(rec) is tuple else rec\n",
    "                features = features.copy()\n",
    "\n",
    "                if month == 12:\n",
    "                    month_event_time = datetime(self._year + 1, 1, 1).timestamp()\n",
    "                else:\n",
    "                    month_event_time = datetime(self._year, month + 1, 1).timestamp()\n",
    "\n",
    "                year_event_time = datetime(self._year, 1, 1).timestamp()\n",
    "\n",
    "                mask = features[self._col_time] < month_event_time\n",
    "\n",
    "                for key, tensor in features.items():\n",
    "                    if key.startswith('target'):\n",
    "                        features[key] = tensor[month - 1].tolist()\n",
    "                    elif key != self._col_id:\n",
    "                        features[key] = tensor[mask]\n",
    "\n",
    "                features[self._col_id] += '_month=' + str(month)\n",
    "\n",
    "                yield features\n",
    "\n",
    "def collate_feature_dict_with_target(batch, col_id='client_id', targets=False):\n",
    "    batch_ids = []\n",
    "    target_cols = []\n",
    "    for sample in batch:\n",
    "        batch_ids.append(sample[col_id])\n",
    "        del sample[col_id]\n",
    "\n",
    "        if targets:\n",
    "            target_cols.append([sample[f'target_{i}'] for i in range(1, 5)])\n",
    "            del sample['target_1']\n",
    "            del sample['target_2']\n",
    "            del sample['target_3']\n",
    "            del sample['target_4']\n",
    "\n",
    "    padded_batch = collate_feature_dict(batch)\n",
    "    if targets:\n",
    "        return padded_batch, batch_ids, target_cols\n",
    "    return padded_batch, batch_ids\n",
    "\n",
    "\n",
    "class InferenceModuleMultimodal(pl.LightningModule):\n",
    "    def __init__(self, model, pandas_output=True, drop_seq_features=True, model_out_name='out'):\n",
    "        super().__init__()\n",
    "\n",
    "        self.model = model\n",
    "        self.pandas_output = pandas_output\n",
    "        self.drop_seq_features = drop_seq_features\n",
    "        self.model_out_name = model_out_name\n",
    "\n",
    "    def forward(self, x):\n",
    "        x_len = len(x)\n",
    "        if x_len == 3:\n",
    "            x, batch_ids, target_cols = x\n",
    "        else:\n",
    "            x, batch_ids = x\n",
    "\n",
    "        out = self.model(x)\n",
    "        if x_len == 3:\n",
    "            target_cols = torch.tensor(target_cols)\n",
    "            x_out = {\n",
    "                'client_id': batch_ids,\n",
    "                'target_1': target_cols[:, 0],\n",
    "                'target_2': target_cols[:, 1],\n",
    "                'target_3': target_cols[:, 2],\n",
    "                'target_4': target_cols[:, 3],\n",
    "                self.model_out_name: out\n",
    "            }\n",
    "        else:\n",
    "            x_out = {\n",
    "                'client_id': batch_ids,\n",
    "                self.model_out_name: out\n",
    "            }\n",
    "        torch.cuda.empty_cache()\n",
    "\n",
    "        if self.pandas_output:\n",
    "            return self.to_pandas(x_out)\n",
    "        return x_out\n",
    "\n",
    "    @staticmethod\n",
    "    def to_pandas(x):\n",
    "        expand_cols = []\n",
    "        scalar_features = {}\n",
    "\n",
    "        for k, v in x.items():\n",
    "            if type(v) is torch.Tensor:\n",
    "                v = v.cpu().numpy()\n",
    "\n",
    "            if type(v) is list or len(v.shape) == 1:\n",
    "                scalar_features[k] = v\n",
    "            elif len(v.shape) == 2:\n",
    "                expand_cols.append(k)\n",
    "            else:\n",
    "                scalar_features[k] = None\n",
    "\n",
    "        dataframes = [pd.DataFrame(scalar_features)]\n",
    "        for col in expand_cols:\n",
    "            v = x[col].cpu().numpy()\n",
    "            dataframes.append(pd.DataFrame(v, columns=[f'{col}_{i:04d}' for i in range(v.shape[1])]))\n",
    "\n",
    "        return pd.concat(dataframes, axis=1)"
   ]
  },
  {
   "cell_type": "code",
   "execution_count": 17,
   "id": "493f6bf3-5d56-41bb-a0f3-8f2c96418ed7",
   "metadata": {},
   "outputs": [],
   "source": [
    "model.load_state_dict(torch.load('model_geo_pyspark_v1_1.pt'))"
   ]
  },
  {
   "cell_type": "code",
   "execution_count": 18,
   "id": "100d726e-4296-45c2-8780-d8b0e128769f",
   "metadata": {},
   "outputs": [
    {
     "name": "stdout",
     "output_type": "stream",
     "text": [
      "CPU times: user 23.3 s, sys: 7.33 s, total: 30.7 s\n",
      "Wall time: 20.8 s\n"
     ]
    }
   ],
   "source": [
    "%%time\n",
    "test = MemoryMapDataset(\n",
    "    data=ParquetDataset(ParquetFiles('processed_geo_test_pyspark_v1.parquet')),#processed_test.toPandas().to_dict(\"records\"),\n",
    "    i_filters=[\n",
    "        ISeqLenLimit(max_seq_len=4096),\n",
    "        FeatureFilter(keep_feature_names=['client_id', 'target_1', 'target_2', 'target_3', 'target_4']),\n",
    "        ToTorch(),\n",
    "    ]\n",
    ")"
   ]
  },
  {
   "cell_type": "code",
   "execution_count": 19,
   "id": "c89abd39-c992-46b2-8b65-44a0d609f44a",
   "metadata": {},
   "outputs": [],
   "source": [
    "inference_test_dl = DataLoader(\n",
    "        dataset=test,\n",
    "        collate_fn=collate_feature_dict_with_target,\n",
    "        shuffle=False,\n",
    "        num_workers=0,\n",
    "        batch_size=256,\n",
    "    )"
   ]
  },
  {
   "cell_type": "code",
   "execution_count": 20,
   "id": "d27f1de8-c3be-402f-860a-f0b8636cad55",
   "metadata": {},
   "outputs": [],
   "source": [
    "inf_module = InferenceModuleMultimodal(\n",
    "        model=model,\n",
    "        pandas_output=True,\n",
    "        drop_seq_features=True,\n",
    "        model_out_name='emb',\n",
    "    )"
   ]
  },
  {
   "cell_type": "code",
   "execution_count": 21,
   "id": "e1c87c51-9b09-4f2c-adec-7ee46972665d",
   "metadata": {},
   "outputs": [
    {
     "name": "stderr",
     "output_type": "stream",
     "text": [
      "GPU available: True (cuda), used: True\n",
      "TPU available: False, using: 0 TPU cores\n",
      "IPU available: False, using: 0 IPUs\n",
      "HPU available: False, using: 0 HPUs\n"
     ]
    }
   ],
   "source": [
    "trainer = pl.Trainer(devices=[0], max_epochs=-1)"
   ]
  },
  {
   "cell_type": "code",
   "execution_count": 22,
   "id": "c9be9ef5-a14f-428f-8db2-088dfe70fc61",
   "metadata": {},
   "outputs": [
    {
     "name": "stderr",
     "output_type": "stream",
     "text": [
      "LOCAL_RANK: 0 - CUDA_VISIBLE_DEVICES: [0]\n"
     ]
    },
    {
     "data": {
      "application/vnd.jupyter.widget-view+json": {
       "model_id": "64dc629a00ba4a2d9a79c7afecfe060f",
       "version_major": 2,
       "version_minor": 0
      },
      "text/plain": [
       "Predicting: |                                             | 0/? [00:00<?, ?it/s]"
      ]
     },
     "metadata": {},
     "output_type": "display_data"
    }
   ],
   "source": [
    "inf_test_embeddings = pd.concat(\n",
    "        trainer.predict(inf_module, inference_test_dl)\n",
    "    )\n",
    "inf_test_embeddings.to_parquet(\"test_geo_pyspark_v1_1.parquet\", index=False, engine=\"pyarrow\", compression=\"snappy\")"
   ]
  },
  {
   "cell_type": "code",
   "execution_count": 23,
   "id": "2a9f87c4-6892-451a-a3b2-55d5f84ccc34",
   "metadata": {},
   "outputs": [
    {
     "name": "stdout",
     "output_type": "stream",
     "text": [
      "(166747, 257)\n"
     ]
    },
    {
     "data": {
      "text/html": [
       "<div>\n",
       "<style scoped>\n",
       "    .dataframe tbody tr th:only-of-type {\n",
       "        vertical-align: middle;\n",
       "    }\n",
       "\n",
       "    .dataframe tbody tr th {\n",
       "        vertical-align: top;\n",
       "    }\n",
       "\n",
       "    .dataframe thead th {\n",
       "        text-align: right;\n",
       "    }\n",
       "</style>\n",
       "<table border=\"1\" class=\"dataframe\">\n",
       "  <thead>\n",
       "    <tr style=\"text-align: right;\">\n",
       "      <th></th>\n",
       "      <th>client_id</th>\n",
       "      <th>emb_0000</th>\n",
       "      <th>emb_0001</th>\n",
       "      <th>emb_0002</th>\n",
       "      <th>emb_0003</th>\n",
       "      <th>emb_0004</th>\n",
       "      <th>emb_0005</th>\n",
       "      <th>emb_0006</th>\n",
       "      <th>emb_0007</th>\n",
       "      <th>emb_0008</th>\n",
       "      <th>...</th>\n",
       "      <th>emb_0246</th>\n",
       "      <th>emb_0247</th>\n",
       "      <th>emb_0248</th>\n",
       "      <th>emb_0249</th>\n",
       "      <th>emb_0250</th>\n",
       "      <th>emb_0251</th>\n",
       "      <th>emb_0252</th>\n",
       "      <th>emb_0253</th>\n",
       "      <th>emb_0254</th>\n",
       "      <th>emb_0255</th>\n",
       "    </tr>\n",
       "  </thead>\n",
       "  <tbody>\n",
       "    <tr>\n",
       "      <th>0</th>\n",
       "      <td>001ea97e38c971ed474a17325f3ffad49187b1ffc3a624...</td>\n",
       "      <td>-0.038996</td>\n",
       "      <td>0.506409</td>\n",
       "      <td>-0.009662</td>\n",
       "      <td>-0.791979</td>\n",
       "      <td>0.017973</td>\n",
       "      <td>0.768293</td>\n",
       "      <td>0.901419</td>\n",
       "      <td>-0.664030</td>\n",
       "      <td>0.693993</td>\n",
       "      <td>...</td>\n",
       "      <td>-0.036012</td>\n",
       "      <td>0.638229</td>\n",
       "      <td>0.283614</td>\n",
       "      <td>0.133935</td>\n",
       "      <td>-0.126021</td>\n",
       "      <td>0.213060</td>\n",
       "      <td>0.831937</td>\n",
       "      <td>-0.857459</td>\n",
       "      <td>-0.823549</td>\n",
       "      <td>-0.731591</td>\n",
       "    </tr>\n",
       "    <tr>\n",
       "      <th>1</th>\n",
       "      <td>00296f9023283991f09082088a7c0ca3ea0752ee486988...</td>\n",
       "      <td>0.105085</td>\n",
       "      <td>0.661438</td>\n",
       "      <td>-0.051763</td>\n",
       "      <td>-0.727864</td>\n",
       "      <td>0.089072</td>\n",
       "      <td>0.821102</td>\n",
       "      <td>0.817634</td>\n",
       "      <td>-0.398612</td>\n",
       "      <td>0.781941</td>\n",
       "      <td>...</td>\n",
       "      <td>-0.788290</td>\n",
       "      <td>0.258295</td>\n",
       "      <td>0.783549</td>\n",
       "      <td>0.380403</td>\n",
       "      <td>-0.105244</td>\n",
       "      <td>0.270898</td>\n",
       "      <td>0.795662</td>\n",
       "      <td>-0.816093</td>\n",
       "      <td>-0.491044</td>\n",
       "      <td>-0.871947</td>\n",
       "    </tr>\n",
       "  </tbody>\n",
       "</table>\n",
       "<p>2 rows × 257 columns</p>\n",
       "</div>"
      ],
      "text/plain": [
       "                                           client_id  emb_0000  emb_0001  \\\n",
       "0  001ea97e38c971ed474a17325f3ffad49187b1ffc3a624... -0.038996  0.506409   \n",
       "1  00296f9023283991f09082088a7c0ca3ea0752ee486988...  0.105085  0.661438   \n",
       "\n",
       "   emb_0002  emb_0003  emb_0004  emb_0005  emb_0006  emb_0007  emb_0008  ...  \\\n",
       "0 -0.009662 -0.791979  0.017973  0.768293  0.901419 -0.664030  0.693993  ...   \n",
       "1 -0.051763 -0.727864  0.089072  0.821102  0.817634 -0.398612  0.781941  ...   \n",
       "\n",
       "   emb_0246  emb_0247  emb_0248  emb_0249  emb_0250  emb_0251  emb_0252  \\\n",
       "0 -0.036012  0.638229  0.283614  0.133935 -0.126021  0.213060  0.831937   \n",
       "1 -0.788290  0.258295  0.783549  0.380403 -0.105244  0.270898  0.795662   \n",
       "\n",
       "   emb_0253  emb_0254  emb_0255  \n",
       "0 -0.857459 -0.823549 -0.731591  \n",
       "1 -0.816093 -0.491044 -0.871947  \n",
       "\n",
       "[2 rows x 257 columns]"
      ]
     },
     "execution_count": 23,
     "metadata": {},
     "output_type": "execute_result"
    }
   ],
   "source": [
    "print(inf_test_embeddings.shape)\n",
    "inf_test_embeddings.head(2)"
   ]
  },
  {
   "cell_type": "markdown",
   "id": "38fb7a44-97a0-46b1-9e85-9934b3d0bb28",
   "metadata": {},
   "source": [
    "Файл **sample_submission** составляется из **client_id** файла **test_target_b**. Так как не у всех пользователей может быть транзакционная история, мы для простоты заполняем их фичи нулями."
   ]
  },
  {
   "cell_type": "code",
   "execution_count": 24,
   "id": "def647db-9d66-4460-bb84-a4960013ed69",
   "metadata": {},
   "outputs": [
    {
     "name": "stdout",
     "output_type": "stream",
     "text": [
      "CPU times: user 481 ms, sys: 242 ms, total: 723 ms\n",
      "Wall time: 937 ms\n"
     ]
    }
   ],
   "source": [
    "%%time\n",
    "test_target_b = pd.read_parquet(\"Hackathon/test_target_b.parquet\")"
   ]
  },
  {
   "cell_type": "code",
   "execution_count": 25,
   "id": "2f88c103-6c7f-43bf-8c5d-52ff6a079cb9",
   "metadata": {},
   "outputs": [
    {
     "data": {
      "text/html": [
       "<div>\n",
       "<style scoped>\n",
       "    .dataframe tbody tr th:only-of-type {\n",
       "        vertical-align: middle;\n",
       "    }\n",
       "\n",
       "    .dataframe tbody tr th {\n",
       "        vertical-align: top;\n",
       "    }\n",
       "\n",
       "    .dataframe thead th {\n",
       "        text-align: right;\n",
       "    }\n",
       "</style>\n",
       "<table border=\"1\" class=\"dataframe\">\n",
       "  <thead>\n",
       "    <tr style=\"text-align: right;\">\n",
       "      <th></th>\n",
       "      <th>client_id</th>\n",
       "      <th>emb_0000</th>\n",
       "      <th>emb_0001</th>\n",
       "      <th>emb_0002</th>\n",
       "      <th>emb_0003</th>\n",
       "      <th>emb_0004</th>\n",
       "      <th>emb_0005</th>\n",
       "      <th>emb_0006</th>\n",
       "      <th>emb_0007</th>\n",
       "      <th>emb_0008</th>\n",
       "      <th>...</th>\n",
       "      <th>emb_0246</th>\n",
       "      <th>emb_0247</th>\n",
       "      <th>emb_0248</th>\n",
       "      <th>emb_0249</th>\n",
       "      <th>emb_0250</th>\n",
       "      <th>emb_0251</th>\n",
       "      <th>emb_0252</th>\n",
       "      <th>emb_0253</th>\n",
       "      <th>emb_0254</th>\n",
       "      <th>emb_0255</th>\n",
       "    </tr>\n",
       "  </thead>\n",
       "  <tbody>\n",
       "    <tr>\n",
       "      <th>0</th>\n",
       "      <td>2b7ff0c1c99cefe259ed83c5dfa0a403f2cbc88032b671...</td>\n",
       "      <td>0.000000</td>\n",
       "      <td>0.000000</td>\n",
       "      <td>0.000000</td>\n",
       "      <td>0.000000</td>\n",
       "      <td>0.000000</td>\n",
       "      <td>0.000000</td>\n",
       "      <td>0.000000</td>\n",
       "      <td>0.000000</td>\n",
       "      <td>0.000000</td>\n",
       "      <td>...</td>\n",
       "      <td>0.000000</td>\n",
       "      <td>0.000000</td>\n",
       "      <td>0.000000</td>\n",
       "      <td>0.000000</td>\n",
       "      <td>0.000000</td>\n",
       "      <td>0.000000</td>\n",
       "      <td>0.000000</td>\n",
       "      <td>0.000000</td>\n",
       "      <td>0.000000</td>\n",
       "      <td>0.000000</td>\n",
       "    </tr>\n",
       "    <tr>\n",
       "      <th>1</th>\n",
       "      <td>0433d23e224b7a520656da6181efadb8d556bb293158c9...</td>\n",
       "      <td>-0.006920</td>\n",
       "      <td>0.371985</td>\n",
       "      <td>0.105188</td>\n",
       "      <td>-0.940242</td>\n",
       "      <td>0.234232</td>\n",
       "      <td>0.853081</td>\n",
       "      <td>0.907563</td>\n",
       "      <td>0.432888</td>\n",
       "      <td>0.698880</td>\n",
       "      <td>...</td>\n",
       "      <td>-0.844448</td>\n",
       "      <td>0.070265</td>\n",
       "      <td>0.970539</td>\n",
       "      <td>0.481419</td>\n",
       "      <td>0.136677</td>\n",
       "      <td>0.149464</td>\n",
       "      <td>0.859307</td>\n",
       "      <td>-0.867117</td>\n",
       "      <td>-0.871099</td>\n",
       "      <td>-0.803203</td>\n",
       "    </tr>\n",
       "    <tr>\n",
       "      <th>2</th>\n",
       "      <td>f2ce8b292e5f9f778f3e20db7608ac76dc8812113a2631...</td>\n",
       "      <td>-0.035280</td>\n",
       "      <td>0.719363</td>\n",
       "      <td>-0.276090</td>\n",
       "      <td>-0.913701</td>\n",
       "      <td>0.028656</td>\n",
       "      <td>0.934402</td>\n",
       "      <td>0.987570</td>\n",
       "      <td>-0.770712</td>\n",
       "      <td>0.580129</td>\n",
       "      <td>...</td>\n",
       "      <td>-0.894032</td>\n",
       "      <td>-0.348200</td>\n",
       "      <td>0.325509</td>\n",
       "      <td>-0.341641</td>\n",
       "      <td>-0.250081</td>\n",
       "      <td>0.198994</td>\n",
       "      <td>0.649047</td>\n",
       "      <td>-0.868058</td>\n",
       "      <td>-0.913276</td>\n",
       "      <td>-0.867098</td>\n",
       "    </tr>\n",
       "    <tr>\n",
       "      <th>3</th>\n",
       "      <td>4f807e8b163c653bcaeff9f925983568f4c3e6b1a1f231...</td>\n",
       "      <td>0.128453</td>\n",
       "      <td>0.791124</td>\n",
       "      <td>0.297852</td>\n",
       "      <td>-0.891602</td>\n",
       "      <td>0.162554</td>\n",
       "      <td>0.843251</td>\n",
       "      <td>0.906598</td>\n",
       "      <td>-0.822932</td>\n",
       "      <td>0.916050</td>\n",
       "      <td>...</td>\n",
       "      <td>-0.847274</td>\n",
       "      <td>0.618208</td>\n",
       "      <td>0.947345</td>\n",
       "      <td>0.383501</td>\n",
       "      <td>-0.263884</td>\n",
       "      <td>-0.063679</td>\n",
       "      <td>0.703320</td>\n",
       "      <td>-0.909131</td>\n",
       "      <td>-0.300937</td>\n",
       "      <td>-0.747693</td>\n",
       "    </tr>\n",
       "    <tr>\n",
       "      <th>4</th>\n",
       "      <td>64369f6f8ae1b719332ee1bfb2b454e642b2053d2c9b8a...</td>\n",
       "      <td>0.000000</td>\n",
       "      <td>0.000000</td>\n",
       "      <td>0.000000</td>\n",
       "      <td>0.000000</td>\n",
       "      <td>0.000000</td>\n",
       "      <td>0.000000</td>\n",
       "      <td>0.000000</td>\n",
       "      <td>0.000000</td>\n",
       "      <td>0.000000</td>\n",
       "      <td>...</td>\n",
       "      <td>0.000000</td>\n",
       "      <td>0.000000</td>\n",
       "      <td>0.000000</td>\n",
       "      <td>0.000000</td>\n",
       "      <td>0.000000</td>\n",
       "      <td>0.000000</td>\n",
       "      <td>0.000000</td>\n",
       "      <td>0.000000</td>\n",
       "      <td>0.000000</td>\n",
       "      <td>0.000000</td>\n",
       "    </tr>\n",
       "    <tr>\n",
       "      <th>...</th>\n",
       "      <td>...</td>\n",
       "      <td>...</td>\n",
       "      <td>...</td>\n",
       "      <td>...</td>\n",
       "      <td>...</td>\n",
       "      <td>...</td>\n",
       "      <td>...</td>\n",
       "      <td>...</td>\n",
       "      <td>...</td>\n",
       "      <td>...</td>\n",
       "      <td>...</td>\n",
       "      <td>...</td>\n",
       "      <td>...</td>\n",
       "      <td>...</td>\n",
       "      <td>...</td>\n",
       "      <td>...</td>\n",
       "      <td>...</td>\n",
       "      <td>...</td>\n",
       "      <td>...</td>\n",
       "      <td>...</td>\n",
       "      <td>...</td>\n",
       "    </tr>\n",
       "    <tr>\n",
       "      <th>140483</th>\n",
       "      <td>d49a66825bb16ceb5b6a01126e1f2391b085dba8da44ee...</td>\n",
       "      <td>0.024971</td>\n",
       "      <td>0.688765</td>\n",
       "      <td>0.427061</td>\n",
       "      <td>-0.577256</td>\n",
       "      <td>0.010310</td>\n",
       "      <td>0.633779</td>\n",
       "      <td>0.729747</td>\n",
       "      <td>-0.387141</td>\n",
       "      <td>0.782867</td>\n",
       "      <td>...</td>\n",
       "      <td>-0.711531</td>\n",
       "      <td>0.793534</td>\n",
       "      <td>0.943521</td>\n",
       "      <td>0.106403</td>\n",
       "      <td>-0.316784</td>\n",
       "      <td>0.169888</td>\n",
       "      <td>0.849713</td>\n",
       "      <td>-0.742480</td>\n",
       "      <td>-0.506382</td>\n",
       "      <td>-0.664590</td>\n",
       "    </tr>\n",
       "    <tr>\n",
       "      <th>140484</th>\n",
       "      <td>f772af6720c0b591d49b97946c5e420c1c077affc0f7c7...</td>\n",
       "      <td>0.000000</td>\n",
       "      <td>0.000000</td>\n",
       "      <td>0.000000</td>\n",
       "      <td>0.000000</td>\n",
       "      <td>0.000000</td>\n",
       "      <td>0.000000</td>\n",
       "      <td>0.000000</td>\n",
       "      <td>0.000000</td>\n",
       "      <td>0.000000</td>\n",
       "      <td>...</td>\n",
       "      <td>0.000000</td>\n",
       "      <td>0.000000</td>\n",
       "      <td>0.000000</td>\n",
       "      <td>0.000000</td>\n",
       "      <td>0.000000</td>\n",
       "      <td>0.000000</td>\n",
       "      <td>0.000000</td>\n",
       "      <td>0.000000</td>\n",
       "      <td>0.000000</td>\n",
       "      <td>0.000000</td>\n",
       "    </tr>\n",
       "    <tr>\n",
       "      <th>140485</th>\n",
       "      <td>06b282335bc4853f888e1ab50a6ba23a8e420d42313959...</td>\n",
       "      <td>0.000000</td>\n",
       "      <td>0.000000</td>\n",
       "      <td>0.000000</td>\n",
       "      <td>0.000000</td>\n",
       "      <td>0.000000</td>\n",
       "      <td>0.000000</td>\n",
       "      <td>0.000000</td>\n",
       "      <td>0.000000</td>\n",
       "      <td>0.000000</td>\n",
       "      <td>...</td>\n",
       "      <td>0.000000</td>\n",
       "      <td>0.000000</td>\n",
       "      <td>0.000000</td>\n",
       "      <td>0.000000</td>\n",
       "      <td>0.000000</td>\n",
       "      <td>0.000000</td>\n",
       "      <td>0.000000</td>\n",
       "      <td>0.000000</td>\n",
       "      <td>0.000000</td>\n",
       "      <td>0.000000</td>\n",
       "    </tr>\n",
       "    <tr>\n",
       "      <th>140486</th>\n",
       "      <td>90d423a25d7cdaf674f7d78bc37d88830443ff17717e02...</td>\n",
       "      <td>0.231699</td>\n",
       "      <td>-0.103652</td>\n",
       "      <td>-0.439368</td>\n",
       "      <td>-0.422195</td>\n",
       "      <td>0.181065</td>\n",
       "      <td>0.910682</td>\n",
       "      <td>0.835959</td>\n",
       "      <td>-0.441267</td>\n",
       "      <td>0.403910</td>\n",
       "      <td>...</td>\n",
       "      <td>-0.801953</td>\n",
       "      <td>0.477283</td>\n",
       "      <td>0.424229</td>\n",
       "      <td>0.064094</td>\n",
       "      <td>-0.052436</td>\n",
       "      <td>-0.138639</td>\n",
       "      <td>0.700406</td>\n",
       "      <td>-0.203674</td>\n",
       "      <td>-0.635084</td>\n",
       "      <td>-0.930173</td>\n",
       "    </tr>\n",
       "    <tr>\n",
       "      <th>140487</th>\n",
       "      <td>f63e55b226d3732b8b4927be8a2cdc7fb88ff2bb0561e2...</td>\n",
       "      <td>0.000000</td>\n",
       "      <td>0.000000</td>\n",
       "      <td>0.000000</td>\n",
       "      <td>0.000000</td>\n",
       "      <td>0.000000</td>\n",
       "      <td>0.000000</td>\n",
       "      <td>0.000000</td>\n",
       "      <td>0.000000</td>\n",
       "      <td>0.000000</td>\n",
       "      <td>...</td>\n",
       "      <td>0.000000</td>\n",
       "      <td>0.000000</td>\n",
       "      <td>0.000000</td>\n",
       "      <td>0.000000</td>\n",
       "      <td>0.000000</td>\n",
       "      <td>0.000000</td>\n",
       "      <td>0.000000</td>\n",
       "      <td>0.000000</td>\n",
       "      <td>0.000000</td>\n",
       "      <td>0.000000</td>\n",
       "    </tr>\n",
       "  </tbody>\n",
       "</table>\n",
       "<p>140488 rows × 257 columns</p>\n",
       "</div>"
      ],
      "text/plain": [
       "                                                client_id  emb_0000  emb_0001  \\\n",
       "0       2b7ff0c1c99cefe259ed83c5dfa0a403f2cbc88032b671...  0.000000  0.000000   \n",
       "1       0433d23e224b7a520656da6181efadb8d556bb293158c9... -0.006920  0.371985   \n",
       "2       f2ce8b292e5f9f778f3e20db7608ac76dc8812113a2631... -0.035280  0.719363   \n",
       "3       4f807e8b163c653bcaeff9f925983568f4c3e6b1a1f231...  0.128453  0.791124   \n",
       "4       64369f6f8ae1b719332ee1bfb2b454e642b2053d2c9b8a...  0.000000  0.000000   \n",
       "...                                                   ...       ...       ...   \n",
       "140483  d49a66825bb16ceb5b6a01126e1f2391b085dba8da44ee...  0.024971  0.688765   \n",
       "140484  f772af6720c0b591d49b97946c5e420c1c077affc0f7c7...  0.000000  0.000000   \n",
       "140485  06b282335bc4853f888e1ab50a6ba23a8e420d42313959...  0.000000  0.000000   \n",
       "140486  90d423a25d7cdaf674f7d78bc37d88830443ff17717e02...  0.231699 -0.103652   \n",
       "140487  f63e55b226d3732b8b4927be8a2cdc7fb88ff2bb0561e2...  0.000000  0.000000   \n",
       "\n",
       "        emb_0002  emb_0003  emb_0004  emb_0005  emb_0006  emb_0007  emb_0008  \\\n",
       "0       0.000000  0.000000  0.000000  0.000000  0.000000  0.000000  0.000000   \n",
       "1       0.105188 -0.940242  0.234232  0.853081  0.907563  0.432888  0.698880   \n",
       "2      -0.276090 -0.913701  0.028656  0.934402  0.987570 -0.770712  0.580129   \n",
       "3       0.297852 -0.891602  0.162554  0.843251  0.906598 -0.822932  0.916050   \n",
       "4       0.000000  0.000000  0.000000  0.000000  0.000000  0.000000  0.000000   \n",
       "...          ...       ...       ...       ...       ...       ...       ...   \n",
       "140483  0.427061 -0.577256  0.010310  0.633779  0.729747 -0.387141  0.782867   \n",
       "140484  0.000000  0.000000  0.000000  0.000000  0.000000  0.000000  0.000000   \n",
       "140485  0.000000  0.000000  0.000000  0.000000  0.000000  0.000000  0.000000   \n",
       "140486 -0.439368 -0.422195  0.181065  0.910682  0.835959 -0.441267  0.403910   \n",
       "140487  0.000000  0.000000  0.000000  0.000000  0.000000  0.000000  0.000000   \n",
       "\n",
       "        ...  emb_0246  emb_0247  emb_0248  emb_0249  emb_0250  emb_0251  \\\n",
       "0       ...  0.000000  0.000000  0.000000  0.000000  0.000000  0.000000   \n",
       "1       ... -0.844448  0.070265  0.970539  0.481419  0.136677  0.149464   \n",
       "2       ... -0.894032 -0.348200  0.325509 -0.341641 -0.250081  0.198994   \n",
       "3       ... -0.847274  0.618208  0.947345  0.383501 -0.263884 -0.063679   \n",
       "4       ...  0.000000  0.000000  0.000000  0.000000  0.000000  0.000000   \n",
       "...     ...       ...       ...       ...       ...       ...       ...   \n",
       "140483  ... -0.711531  0.793534  0.943521  0.106403 -0.316784  0.169888   \n",
       "140484  ...  0.000000  0.000000  0.000000  0.000000  0.000000  0.000000   \n",
       "140485  ...  0.000000  0.000000  0.000000  0.000000  0.000000  0.000000   \n",
       "140486  ... -0.801953  0.477283  0.424229  0.064094 -0.052436 -0.138639   \n",
       "140487  ...  0.000000  0.000000  0.000000  0.000000  0.000000  0.000000   \n",
       "\n",
       "        emb_0252  emb_0253  emb_0254  emb_0255  \n",
       "0       0.000000  0.000000  0.000000  0.000000  \n",
       "1       0.859307 -0.867117 -0.871099 -0.803203  \n",
       "2       0.649047 -0.868058 -0.913276 -0.867098  \n",
       "3       0.703320 -0.909131 -0.300937 -0.747693  \n",
       "4       0.000000  0.000000  0.000000  0.000000  \n",
       "...          ...       ...       ...       ...  \n",
       "140483  0.849713 -0.742480 -0.506382 -0.664590  \n",
       "140484  0.000000  0.000000  0.000000  0.000000  \n",
       "140485  0.000000  0.000000  0.000000  0.000000  \n",
       "140486  0.700406 -0.203674 -0.635084 -0.930173  \n",
       "140487  0.000000  0.000000  0.000000  0.000000  \n",
       "\n",
       "[140488 rows x 257 columns]"
      ]
     },
     "execution_count": 25,
     "metadata": {},
     "output_type": "execute_result"
    }
   ],
   "source": [
    "not_only_trx = pd.DataFrame({\"client_id\": test_target_b[\"client_id\"].unique()}).merge(inf_test_embeddings, how=\"left\").fillna(0)\n",
    "not_only_trx"
   ]
  },
  {
   "cell_type": "code",
   "execution_count": 26,
   "id": "8cb95ffc-be13-4cdf-a165-010d7cec9a2d",
   "metadata": {},
   "outputs": [],
   "source": [
    "not_only_trx.to_parquet(\"test_geo_pyspark_v1_1.parquet\", index=False, engine=\"pyarrow\", compression=\"snappy\")"
   ]
  },
  {
   "cell_type": "code",
   "execution_count": 27,
   "id": "cbba832f-8a40-42a9-b0fd-125d6afe23da",
   "metadata": {},
   "outputs": [
    {
     "name": "stdout",
     "output_type": "stream",
     "text": [
      "(140488, 257)\n"
     ]
    },
    {
     "data": {
      "text/html": [
       "<div>\n",
       "<style scoped>\n",
       "    .dataframe tbody tr th:only-of-type {\n",
       "        vertical-align: middle;\n",
       "    }\n",
       "\n",
       "    .dataframe tbody tr th {\n",
       "        vertical-align: top;\n",
       "    }\n",
       "\n",
       "    .dataframe thead th {\n",
       "        text-align: right;\n",
       "    }\n",
       "</style>\n",
       "<table border=\"1\" class=\"dataframe\">\n",
       "  <thead>\n",
       "    <tr style=\"text-align: right;\">\n",
       "      <th></th>\n",
       "      <th>client_id</th>\n",
       "      <th>emb_0000</th>\n",
       "      <th>emb_0001</th>\n",
       "      <th>emb_0002</th>\n",
       "      <th>emb_0003</th>\n",
       "      <th>emb_0004</th>\n",
       "      <th>emb_0005</th>\n",
       "      <th>emb_0006</th>\n",
       "      <th>emb_0007</th>\n",
       "      <th>emb_0008</th>\n",
       "      <th>...</th>\n",
       "      <th>emb_0246</th>\n",
       "      <th>emb_0247</th>\n",
       "      <th>emb_0248</th>\n",
       "      <th>emb_0249</th>\n",
       "      <th>emb_0250</th>\n",
       "      <th>emb_0251</th>\n",
       "      <th>emb_0252</th>\n",
       "      <th>emb_0253</th>\n",
       "      <th>emb_0254</th>\n",
       "      <th>emb_0255</th>\n",
       "    </tr>\n",
       "  </thead>\n",
       "  <tbody>\n",
       "    <tr>\n",
       "      <th>0</th>\n",
       "      <td>2b7ff0c1c99cefe259ed83c5dfa0a403f2cbc88032b671...</td>\n",
       "      <td>0.00000</td>\n",
       "      <td>0.000000</td>\n",
       "      <td>0.000000</td>\n",
       "      <td>0.000000</td>\n",
       "      <td>0.000000</td>\n",
       "      <td>0.000000</td>\n",
       "      <td>0.000000</td>\n",
       "      <td>0.000000</td>\n",
       "      <td>0.00000</td>\n",
       "      <td>...</td>\n",
       "      <td>0.000000</td>\n",
       "      <td>0.000000</td>\n",
       "      <td>0.000000</td>\n",
       "      <td>0.000000</td>\n",
       "      <td>0.000000</td>\n",
       "      <td>0.000000</td>\n",
       "      <td>0.000000</td>\n",
       "      <td>0.000000</td>\n",
       "      <td>0.000000</td>\n",
       "      <td>0.000000</td>\n",
       "    </tr>\n",
       "    <tr>\n",
       "      <th>1</th>\n",
       "      <td>0433d23e224b7a520656da6181efadb8d556bb293158c9...</td>\n",
       "      <td>-0.00692</td>\n",
       "      <td>0.371985</td>\n",
       "      <td>0.105188</td>\n",
       "      <td>-0.940242</td>\n",
       "      <td>0.234232</td>\n",
       "      <td>0.853081</td>\n",
       "      <td>0.907563</td>\n",
       "      <td>0.432888</td>\n",
       "      <td>0.69888</td>\n",
       "      <td>...</td>\n",
       "      <td>-0.844448</td>\n",
       "      <td>0.070265</td>\n",
       "      <td>0.970539</td>\n",
       "      <td>0.481419</td>\n",
       "      <td>0.136677</td>\n",
       "      <td>0.149464</td>\n",
       "      <td>0.859307</td>\n",
       "      <td>-0.867117</td>\n",
       "      <td>-0.871099</td>\n",
       "      <td>-0.803203</td>\n",
       "    </tr>\n",
       "  </tbody>\n",
       "</table>\n",
       "<p>2 rows × 257 columns</p>\n",
       "</div>"
      ],
      "text/plain": [
       "                                           client_id  emb_0000  emb_0001  \\\n",
       "0  2b7ff0c1c99cefe259ed83c5dfa0a403f2cbc88032b671...   0.00000  0.000000   \n",
       "1  0433d23e224b7a520656da6181efadb8d556bb293158c9...  -0.00692  0.371985   \n",
       "\n",
       "   emb_0002  emb_0003  emb_0004  emb_0005  emb_0006  emb_0007  emb_0008  ...  \\\n",
       "0  0.000000  0.000000  0.000000  0.000000  0.000000  0.000000   0.00000  ...   \n",
       "1  0.105188 -0.940242  0.234232  0.853081  0.907563  0.432888   0.69888  ...   \n",
       "\n",
       "   emb_0246  emb_0247  emb_0248  emb_0249  emb_0250  emb_0251  emb_0252  \\\n",
       "0  0.000000  0.000000  0.000000  0.000000  0.000000  0.000000  0.000000   \n",
       "1 -0.844448  0.070265  0.970539  0.481419  0.136677  0.149464  0.859307   \n",
       "\n",
       "   emb_0253  emb_0254  emb_0255  \n",
       "0  0.000000  0.000000  0.000000  \n",
       "1 -0.867117 -0.871099 -0.803203  \n",
       "\n",
       "[2 rows x 257 columns]"
      ]
     },
     "execution_count": 27,
     "metadata": {},
     "output_type": "execute_result"
    }
   ],
   "source": [
    "print(not_only_trx.shape)\n",
    "not_only_trx.head(2)"
   ]
  },
  {
   "cell_type": "code",
   "execution_count": 28,
   "id": "4b8be03f-9548-4a66-892e-2eb22c1d2b9e",
   "metadata": {},
   "outputs": [
    {
     "data": {
      "text/plain": [
       "'2b7ff0c1c99cefe259ed83c5dfa0a403f2cbc88032b671d0bcb425e90932db07'"
      ]
     },
     "execution_count": 28,
     "metadata": {},
     "output_type": "execute_result"
    }
   ],
   "source": [
    "not_only_trx.client_id.values[0]"
   ]
  },
  {
   "cell_type": "code",
   "execution_count": 29,
   "id": "4e3889da-b3be-461c-ae95-eb1a1d23884e",
   "metadata": {},
   "outputs": [],
   "source": [
    "del inf_test_embeddings"
   ]
  },
  {
   "cell_type": "code",
   "execution_count": 30,
   "id": "2002779d-27e7-423c-b6a2-d9c5877bb36e",
   "metadata": {},
   "outputs": [
    {
     "name": "stdout",
     "output_type": "stream",
     "text": [
      "================================================================================\n",
      "1\n",
      "Mon Jun 10 08:36:51 2024\n"
     ]
    },
    {
     "name": "stderr",
     "output_type": "stream",
     "text": [
      "LOCAL_RANK: 0 - CUDA_VISIBLE_DEVICES: [0]\n"
     ]
    },
    {
     "data": {
      "application/vnd.jupyter.widget-view+json": {
       "model_id": "b1033de206514f8fadff1bc982d05d60",
       "version_major": 2,
       "version_minor": 0
      },
      "text/plain": [
       "Predicting: |                                             | 0/? [00:00<?, ?it/s]"
      ]
     },
     "metadata": {},
     "output_type": "display_data"
    },
    {
     "name": "stdout",
     "output_type": "stream",
     "text": [
      "(1578102, 257)\n",
      "================================================================================\n",
      "3\n",
      "Mon Jun 10 08:47:04 2024\n"
     ]
    },
    {
     "name": "stderr",
     "output_type": "stream",
     "text": [
      "LOCAL_RANK: 0 - CUDA_VISIBLE_DEVICES: [0]\n"
     ]
    },
    {
     "data": {
      "application/vnd.jupyter.widget-view+json": {
       "model_id": "3e4a53fa59af4c6697e1c1fc0a24b673",
       "version_major": 2,
       "version_minor": 0
      },
      "text/plain": [
       "Predicting: |                                             | 0/? [00:02<?, ?it/s]"
      ]
     },
     "metadata": {},
     "output_type": "display_data"
    },
    {
     "name": "stdout",
     "output_type": "stream",
     "text": [
      "(1578102, 257)\n",
      "================================================================================\n",
      "5\n",
      "Mon Jun 10 09:02:18 2024\n"
     ]
    },
    {
     "name": "stderr",
     "output_type": "stream",
     "text": [
      "LOCAL_RANK: 0 - CUDA_VISIBLE_DEVICES: [0]\n"
     ]
    },
    {
     "data": {
      "application/vnd.jupyter.widget-view+json": {
       "model_id": "efe38f20fa604a8e985559a1dc9d4d4d",
       "version_major": 2,
       "version_minor": 0
      },
      "text/plain": [
       "Predicting: |                                             | 0/? [00:05<?, ?it/s]"
      ]
     },
     "metadata": {},
     "output_type": "display_data"
    },
    {
     "name": "stdout",
     "output_type": "stream",
     "text": [
      "(1578102, 257)\n",
      "================================================================================\n",
      "7\n",
      "Mon Jun 10 09:21:34 2024\n"
     ]
    },
    {
     "name": "stderr",
     "output_type": "stream",
     "text": [
      "LOCAL_RANK: 0 - CUDA_VISIBLE_DEVICES: [0]\n"
     ]
    },
    {
     "data": {
      "application/vnd.jupyter.widget-view+json": {
       "model_id": "4874e640a363479eaffadb9120c2a4b5",
       "version_major": 2,
       "version_minor": 0
      },
      "text/plain": [
       "Predicting: |                                             | 0/? [00:09<?, ?it/s]"
      ]
     },
     "metadata": {},
     "output_type": "display_data"
    },
    {
     "name": "stdout",
     "output_type": "stream",
     "text": [
      "(1578102, 257)\n",
      "================================================================================\n",
      "9\n",
      "Mon Jun 10 09:44:54 2024\n"
     ]
    },
    {
     "name": "stderr",
     "output_type": "stream",
     "text": [
      "LOCAL_RANK: 0 - CUDA_VISIBLE_DEVICES: [0]\n"
     ]
    },
    {
     "data": {
      "application/vnd.jupyter.widget-view+json": {
       "model_id": "ca45cfb0d7f34692ac843ca8c227902a",
       "version_major": 2,
       "version_minor": 0
      },
      "text/plain": [
       "Predicting: |                                             | 0/? [00:14<?, ?it/s]"
      ]
     },
     "metadata": {},
     "output_type": "display_data"
    },
    {
     "name": "stdout",
     "output_type": "stream",
     "text": [
      "(1578102, 257)\n",
      "================================================================================\n",
      "11\n",
      "Mon Jun 10 10:10:19 2024\n"
     ]
    },
    {
     "name": "stderr",
     "output_type": "stream",
     "text": [
      "LOCAL_RANK: 0 - CUDA_VISIBLE_DEVICES: [0]\n"
     ]
    },
    {
     "data": {
      "application/vnd.jupyter.widget-view+json": {
       "model_id": "faa848a97e7340c8a82174f572c2810a",
       "version_major": 2,
       "version_minor": 0
      },
      "text/plain": [
       "Predicting: |                                             | 0/? [00:18<?, ?it/s]"
      ]
     },
     "metadata": {},
     "output_type": "display_data"
    },
    {
     "name": "stdout",
     "output_type": "stream",
     "text": [
      "(1578102, 257)\n"
     ]
    }
   ],
   "source": [
    "for j in [1, 3, 5, 7, 9, 11]:\n",
    "    print('='*80)\n",
    "    print(j)\n",
    "    print(time.ctime())\n",
    "\n",
    "    train = MemoryMapDataset(\n",
    "        #data=processed_train.merge(processed_target9.drop([\"event_time\", 'target_len','new_mon'], axis=1), \n",
    "        #                           on=\"client_id\", how=\"inner\").to_dict(\"records\"),\n",
    "        ParquetDataset(ParquetFiles('processed_geo_train_pyspark_v1.parquet')),\n",
    "        \n",
    "        i_filters=[\n",
    "            ISeqLenLimit(max_seq_len=4096),\n",
    "            FeatureFilter(keep_feature_names=['client_id', 'target_1', 'target_2', 'target_3', 'target_4']),#\n",
    "            GetSplit(start_month=j, end_month=j+1),\n",
    "            ToTorch(),\n",
    "        ]\n",
    "    )\n",
    "\n",
    "    inference_train_dl = DataLoader(\n",
    "        dataset=train,\n",
    "        #collate_fn=partial(collate_feature_dict_with_target, targets=True),\n",
    "    collate_fn=collate_feature_dict_with_target,\n",
    "        shuffle=False,\n",
    "        num_workers=0,\n",
    "        batch_size=256,\n",
    "    )\n",
    "\n",
    "    inf_train_embeddings = pd.concat(trainer.predict(inf_module, inference_train_dl))\n",
    "\n",
    "    inf_train_embeddings.to_parquet(\"train_geo_pyspark_v1_1_m_\"+str(j)+'_'+str(j+1)+\".parquet\", index=False, engine=\"pyarrow\", compression=\"snappy\")\n",
    "    print(inf_train_embeddings.shape)\n",
    "    del inf_train_embeddings, train"
   ]
  },
  {
   "cell_type": "code",
   "execution_count": null,
   "id": "afee4769-ba07-4a4c-9a8e-587ba3eedf6d",
   "metadata": {},
   "outputs": [],
   "source": [
    "tracker.stop()"
   ]
  },
  {
   "cell_type": "code",
   "execution_count": null,
   "id": "093f1431-e561-4da8-9875-9d757f151332",
   "metadata": {},
   "outputs": [],
   "source": [
    "time.sleep(30)"
   ]
  },
  {
   "cell_type": "code",
   "execution_count": null,
   "id": "a109c570-c645-4c48-a9bc-894e0f74ef9e",
   "metadata": {},
   "outputs": [],
   "source": [
    "#!sudo poweroff"
   ]
  }
 ],
 "metadata": {
  "kernelspec": {
   "display_name": "Python 3 (ipykernel)",
   "language": "python",
   "name": "python3"
  },
  "language_info": {
   "codemirror_mode": {
    "name": "ipython",
    "version": 3
   },
   "file_extension": ".py",
   "mimetype": "text/x-python",
   "name": "python",
   "nbconvert_exporter": "python",
   "pygments_lexer": "ipython3",
   "version": "3.9.5"
  }
 },
 "nbformat": 4,
 "nbformat_minor": 5
}
